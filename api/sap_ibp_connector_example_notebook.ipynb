{
 "cells": [
  {
   "cell_type": "markdown",
   "metadata": {},
   "source": [
    "# Using the SAP IBP Connector\n",
    "\n",
    "Practical guide on how to get started"
   ]
  },
  {
   "cell_type": "markdown",
   "metadata": {},
   "source": [
    "## 1. Introduction"
   ]
  },
  {
   "cell_type": "markdown",
   "metadata": {},
   "source": [
    "### What does this package contain\n",
    "- Connector for connecting with SAP IBP\n",
    "- Downloaders for downloading data from various IBP sources (currently: Keyfigure, masterdata & change history)\n",
    "- Uploaders for uploading data to IBP (currently only Keyfigure)\n",
    "- Query API for constructing queries compatible with the SAP IBP API. The Query & Downloader objects are integrated."
   ]
  },
  {
   "cell_type": "markdown",
   "metadata": {},
   "source": [
    "### Downloading data from SAP IBP\n",
    "In order to download data from SAP IBP, use the various DataDownloader objects (e.g., KeyfigureDataDownloader and MasterdataDownloader). Downloaders return the requested data as a pandas dataframe, along with the response object from the requests library. View the specific downloader documentation to get information on what 'downloader-specific' information it requires.\n",
    "\n",
    "#### Basic usage\n",
    "```python\n",
    "from sap_ibp_connector import IBPConnector\n",
    "from sap_ibp_connector import (\n",
    "    KeyfigureDataDownloader,\n",
    "    MasterdataDownloader,\n",
    "    ChangeHistoryDownloader,\n",
    ")\n",
    "\n",
    "# Establish connection using IBPConnector\n",
    "with IBPConnector(username=username, password=password, planning_area=pa, url=url) as connector:\n",
    "    # Instantiate data downloader\n",
    "    downloader = MasterdataDownloader(connector, masterdata_table=my_table)\n",
    "\n",
    "    df, response = downloader.download()\n",
    "\n",
    "```\n",
    "\n",
    "Downloading is also supported in chunks. This will return a concatenated dataframe of all downloaded chunks and a list of response objects per request."
   ]
  },
  {
   "cell_type": "markdown",
   "metadata": {},
   "source": [
    "### Uploading data to SAP IBP\n",
    "The API supports uploading data to IBP. Data has to be send in json format, but uploaders provide support for converting pandas dataframes to a valid json to be send to IBP. You can provide the uploaders with a json and it will send it to IBP, if you provide a pandas Dataframe it will first be converted to json. Uploaders return a requests.Response object\n",
    "\n",
    "#### Basic usage\n",
    "```python\n",
    "from sap_ibp_connector import IBPConnector\n",
    "from sap_ibp_connector import KeyfigureDataUploader\n",
    "\n",
    "# Establish connection using IBPConnector\n",
    "with IBPConnector(username=username, password=password, planning_area=pa, url=url) as connector:\n",
    "    # Instantiate data uploader\n",
    "    uploader = KeyfigureDataUploader(connector)\n",
    "\n",
    "    # uploaders expose functionality to convert pandas dataframe to IBP compatible json\n",
    "    df_json = uploader.df_to_json(df)\n",
    "\n",
    "    # upload the json\n",
    "    response = uploader.upload(df_json)\n",
    "\n",
    "    # if you provide a dataframe, DataUploader will call df_to_json automatically\n",
    "    response = uploader.upload(df)\n",
    "```"
   ]
  },
  {
   "cell_type": "markdown",
   "metadata": {},
   "source": [
    "### Constructing queries\n",
    "For downloading data, one can pass queries to DataDownloaders to select, filter & sort the requested data. Query strings as documented by the SAP API can directly be provided. This package also provides helpers for constructing queries.\n",
    "\n",
    "Supported queries are:\n",
    "- filter\n",
    "- AND\n",
    "- OR\n",
    "- select\n",
    "- top\n",
    "- skip\n",
    "- order_by"
   ]
  },
  {
   "cell_type": "markdown",
   "metadata": {},
   "source": [
    "#### Basic usage\n",
    "\n",
    "```python\n",
    "from sap_ibp_connector.query import Query, select, filter\n",
    "from sap_ibp_connector import KeyfigureDataDownloader, IBPConnector\n",
    "\n",
    "# construct a query\n",
    "query = Query(\n",
    "    select(\"col1\", \"col2\", \"col3\"),\n",
    "    filter.ge(\"col1\", 5)\n",
    ")\n",
    "\n",
    "# Query objects can directly be provided to DataDownloader objects\n",
    "with IBPConnector(username=username, password=password, planning_area=pa, url=url) as connector:\n",
    "    # Instantiate data downloader\n",
    "    downloader = KeyfigureDataDownloader(connector)\n",
    "\n",
    "    df, response = downloader.download(query=query)\n",
    "```\n",
    "\n",
    "You can combine queries by constructing a new Query object:\n",
    "\n",
    "```python\n",
    "query = Query(select_query, filter_query)\n",
    "\n",
    "# with a custom query\n",
    "query = Query(select_query, 'my_custom_query')\n",
    "```\n",
    "\n",
    "Or by using the \"+\" operator:\n",
    "\n",
    "```python\n",
    "query = select_query + filter_query\n",
    "\n",
    "# with a custom query\n",
    "query = select_query + 'my_custom_query'\n",
    "```\n",
    "\n",
    "Use AND/OR to combine filter queries:\n",
    "\n",
    "```python\n",
    "from sap_ibp_connector.query import filter, AND\n",
    "\n",
    "query = AND(filter.eq(\"col1\", \"value\"), filter.eq(\"col2\", \"other_value\"))\n",
    "```\n",
    "\n",
    "Queries can be nested:\n",
    "\n",
    "```python\n",
    "from sap_ibp_connector.query import filter, AND, order_by, select\n",
    "\n",
    "query = Query(\n",
    "    select(\"col1\", \"col2\", \"col3\"),\n",
    "    Query(\n",
    "            AND(filter.eq(\"col1\", \"value\"), filter.eq(\"col2\", \"other_value\")),\n",
    "            order_by(col3='asc')\n",
    "        )\n",
    "    )\n",
    "```\n",
    "\n",
    "The query module also provides some helpers for constructing datetime queries:\n",
    "- py_datetime_to_query_date\n",
    "- string_to_query_date"
   ]
  },
  {
   "cell_type": "markdown",
   "metadata": {},
   "source": [
    "### Link to SAP IBP documentation around OData integration services\n",
    "\n",
    "https://help.sap.com/docs/SAP_INTEGRATED_BUSINESS_PLANNING/da797ae2bf6246d58abd417f24915d55/62f7075855409344e10000000a4450e5.html?locale=en-US"
   ]
  },
  {
   "cell_type": "markdown",
   "metadata": {},
   "source": [
    "## Import required packages"
   ]
  },
  {
   "cell_type": "code",
   "execution_count": 2,
   "metadata": {},
   "outputs": [],
   "source": [
    "# import dataiku\n",
    "# from dataiku import pandasutils as pdu\n",
    "import pandas as pd\n",
    "import numpy as np\n",
    "\n",
    "# import core functionality of the sap ibp connector\n",
    "from sap_ibp_connector import KeyfigureDataDownloader, MasterdataDownloader, KeyfigureDataUploader, IBPConnector\n",
    "\n",
    "# import helpers to construct your query\n",
    "from sap_ibp_connector.query import (\n",
    "    Query,\n",
    "    filter,\n",
    "    select,\n",
    "    skip,\n",
    "    top,\n",
    "    order_by,\n",
    "    AND,\n",
    "    OR,\n",
    "    OrderDirections,\n",
    "    string_to_query_date,\n",
    "    py_datetime_to_query_date,\n",
    ")# importing required packages\n",
    "# import dataiku\n",
    "# from dataiku import pandasutils as pdu\n",
    "import pandas as pd\n",
    "import numpy as np\n",
    "\n",
    "# import core functionality of the sap ibp connector\n",
    "from sap_ibp_connector import KeyfigureDataDownloader, MasterdataDownloader, KeyfigureDataUploader, IBPConnector\n",
    "\n",
    "# import helpers to construct your query\n",
    "from sap_ibp_connector.query import (\n",
    "    Query,\n",
    "    filter,\n",
    "    select,\n",
    "    skip,\n",
    "    top,\n",
    "    order_by,\n",
    "    AND,\n",
    "    OR,\n",
    "    OrderDirections,\n",
    "    string_to_query_date,\n",
    "    py_datetime_to_query_date,\n",
    ")"
   ]
  },
  {
   "cell_type": "markdown",
   "metadata": {},
   "source": [
    "## Example of reading key-figure data"
   ]
  },
  {
   "cell_type": "code",
   "execution_count": 3,
   "metadata": {},
   "outputs": [],
   "source": [
    "# CREDENTIALS\n",
    "IBP_USERNAME_MD_KF = ...\n",
    "IBP_PASSWORD_MD_KF = ...\n",
    "IBP_URL_KF = ...\n",
    "IBP_PLANNING_AREA = \"ZAPPLESI3\""
   ]
  },
  {
   "cell_type": "code",
   "execution_count": 4,
   "metadata": {},
   "outputs": [
    {
     "name": "stdout",
     "output_type": "stream",
     "text": [
      "Help on class KeyfigureDataDownloader in module sap_ibp_connector.data_downloaders:\n",
      "\n",
      "class KeyfigureDataDownloader(DataDownloader)\n",
      " |  KeyfigureDataDownloader(connector: sap_ibp_connector.connector.IBPConnector)\n",
      " |  \n",
      " |  Class for extracting key-figure data from SAP IBP\n",
      " |  \n",
      " |  Usage:\n",
      " |  \n",
      " |  with IBPConnector() as ibp_connector:\n",
      " |      downloader = KeyfigureDataDownloader(ibp_connector)\n",
      " |      result = downloader.download()\n",
      " |  \n",
      " |  Attributes\n",
      " |  ----------\n",
      " |  param connector:\n",
      " |      Instance of IBPConnector (wrapper around requests.Session)\n",
      " |  \n",
      " |  Method resolution order:\n",
      " |      KeyfigureDataDownloader\n",
      " |      DataDownloader\n",
      " |      abc.ABC\n",
      " |      builtins.object\n",
      " |  \n",
      " |  Methods defined here:\n",
      " |  \n",
      " |  __init__(self, connector: sap_ibp_connector.connector.IBPConnector)\n",
      " |      Constructs all the necessary attributes for the KeyfigureDataDownloader object.\n",
      " |  \n",
      " |  download(self, query: Union[str, sap_ibp_connector.query.components.Query] = '', verbose=False, **kwargs) -> Tuple[pandas.core.frame.DataFrame, sap_ibp_connector.data_downloaders.DownloadRequestResult]\n",
      " |      Method that pulls key-figure data from SAP IBP\n",
      " |      \n",
      " |      @:param query_str: Query string to be used to compose http request\n",
      " |      @:param verbose: Option for producing detailed logging information\n",
      " |      \n",
      " |      @:returns Tuple containing a Pandas DataFrame with the extracted data and a DownloadRequestResult instance\n",
      " |  \n",
      " |  validate_query_str(self, query_str: str) -> str\n",
      " |      Method that validates the query_str for the KeyfigureDataDownloader object.\n",
      " |      \n",
      " |      @:param query_str: query string to be validated\n",
      " |  \n",
      " |  ----------------------------------------------------------------------\n",
      " |  Readonly properties defined here:\n",
      " |  \n",
      " |  base_url\n",
      " |      Base url for the downloader that each request uses.\n",
      " |  \n",
      " |  ----------------------------------------------------------------------\n",
      " |  Data and other attributes defined here:\n",
      " |  \n",
      " |  __abstractmethods__ = frozenset()\n",
      " |  \n",
      " |  ----------------------------------------------------------------------\n",
      " |  Methods inherited from DataDownloader:\n",
      " |  \n",
      " |  download_in_chunks(self, query: Union[str, sap_ibp_connector.query.components.Query] = '', chunk_size: int = 100000, verbose: bool = False, **kwargs) -> Tuple[pandas.core.frame.DataFrame, List[sap_ibp_connector.data_downloaders.DownloadRequestResult]]\n",
      " |      Call download() multiple times to pull data from SAP IBP in chunks.\n",
      " |      \n",
      " |      @:param query_str: Query string to be used to compose http request\n",
      " |      @:param chunk_size: Number of records to extract in each download call\n",
      " |      @:param verbose: Option for producing detailed logging information\n",
      " |      \n",
      " |      @:returns Tuple containing a Pandas DataFrame with the (concatenated) extracted data and a list of\n",
      " |          DownloadRequestResult instances\n",
      " |  \n",
      " |  ----------------------------------------------------------------------\n",
      " |  Data descriptors inherited from DataDownloader:\n",
      " |  \n",
      " |  __dict__\n",
      " |      dictionary for instance variables (if defined)\n",
      " |  \n",
      " |  __weakref__\n",
      " |      list of weak references to the object (if defined)\n",
      "\n"
     ]
    }
   ],
   "source": [
    "# You can always call the help function which will provide information regarding the passed object\n",
    "help(KeyfigureDataDownloader)"
   ]
  },
  {
   "cell_type": "code",
   "execution_count": 5,
   "metadata": {},
   "outputs": [
    {
     "ename": "InvalidSchema",
     "evalue": "No connection adapters were found for \"Ellipsis/ZAPPLESI3?&$select=PRDID,PRDDESCR,LOCREGION,CUSTBUFFER2,LOCID,LOCDESCR,PRDGROUP,PRDGROUPID,BRAND,BRANDID,DOSAGEFORM,DOSAGEFORMID,DOSAGE,DOSAGEID,PACKAGINGTYPE,PACKAGINGTYPEID,SUPPLYCHAINCAT,LOCBUFFER3,PERIODID3_TSTAMP,CONSENSUSDEMANDQTYLM,CONSENSUSDEMANDQTY,ACTUALSQTY,FINALSTATFCSTQTY,CDPQ0MLAG,CDPQ1MLAG,CDPQ2MLAG,CDPQ3MLAG,CDPQ4MLAG,CDPQ5MLAG,FREEOFCHARGESALES,SUMACTFOC,STATISTICALFORECASTQTY3MLAG,ZFINALSTATFCSTQTY&$filter=((UOMTOID eq 'PC') and (PERIODID3_TSTAMP ge datetime'2020-09-01T00:00:00') and (PERIODID3_TSTAMP le datetime'2022-08-01T00:00:00'))&$skip=0&$top=100000\"",
     "output_type": "error",
     "traceback": [
      "\u001b[1;31m---------------------------------------------------------------------------\u001b[0m",
      "\u001b[1;31mInvalidSchema\u001b[0m                             Traceback (most recent call last)",
      "\u001b[1;32m<ipython-input-5-bcff3834daa9>\u001b[0m in \u001b[0;36m<module>\u001b[1;34m\u001b[0m\n\u001b[0;32m     23\u001b[0m \u001b[1;33m\u001b[0m\u001b[0m\n\u001b[0;32m     24\u001b[0m     \u001b[1;31m# Download data\u001b[0m\u001b[1;33m\u001b[0m\u001b[1;33m\u001b[0m\u001b[1;33m\u001b[0m\u001b[0m\n\u001b[1;32m---> 25\u001b[1;33m     \u001b[0mdf\u001b[0m\u001b[1;33m,\u001b[0m \u001b[0mresponse\u001b[0m \u001b[1;33m=\u001b[0m \u001b[0mdownloader\u001b[0m\u001b[1;33m.\u001b[0m\u001b[0mdownload_in_chunks\u001b[0m\u001b[1;33m(\u001b[0m\u001b[0mquery\u001b[0m\u001b[1;33m=\u001b[0m\u001b[0mquery\u001b[0m\u001b[1;33m)\u001b[0m\u001b[1;33m\u001b[0m\u001b[1;33m\u001b[0m\u001b[0m\n\u001b[0m",
      "\u001b[1;32m~\\Anaconda3\\lib\\site-packages\\sap_ibp_connector\\data_downloaders.py\u001b[0m in \u001b[0;36mdownload_in_chunks\u001b[1;34m(self, query, chunk_size, verbose, **kwargs)\u001b[0m\n\u001b[0;32m    117\u001b[0m                 \u001b[0mprint\u001b[0m\u001b[1;33m(\u001b[0m\u001b[1;34mf\"Extracting {chunk_size} records starting at position {nr_retrieved}\"\u001b[0m\u001b[1;33m)\u001b[0m\u001b[1;33m\u001b[0m\u001b[1;33m\u001b[0m\u001b[0m\n\u001b[0;32m    118\u001b[0m             \u001b[1;31m# Download the chunk\u001b[0m\u001b[1;33m\u001b[0m\u001b[1;33m\u001b[0m\u001b[1;33m\u001b[0m\u001b[0m\n\u001b[1;32m--> 119\u001b[1;33m             \u001b[0mdf_chunk\u001b[0m\u001b[1;33m,\u001b[0m \u001b[0mresponse_result\u001b[0m \u001b[1;33m=\u001b[0m \u001b[0mself\u001b[0m\u001b[1;33m.\u001b[0m\u001b[0mdownload\u001b[0m\u001b[1;33m(\u001b[0m\u001b[0mchunk_query_str\u001b[0m\u001b[1;33m,\u001b[0m \u001b[0mverbose\u001b[0m\u001b[1;33m,\u001b[0m \u001b[1;33m**\u001b[0m\u001b[0mkwargs\u001b[0m\u001b[1;33m)\u001b[0m\u001b[1;33m\u001b[0m\u001b[1;33m\u001b[0m\u001b[0m\n\u001b[0m\u001b[0;32m    120\u001b[0m \u001b[1;33m\u001b[0m\u001b[0m\n\u001b[0;32m    121\u001b[0m             \u001b[1;31m# Get the latest response & the nr of retrieved records\u001b[0m\u001b[1;33m\u001b[0m\u001b[1;33m\u001b[0m\u001b[1;33m\u001b[0m\u001b[0m\n",
      "\u001b[1;32m~\\Anaconda3\\lib\\site-packages\\sap_ibp_connector\\data_downloaders.py\u001b[0m in \u001b[0;36mdownload\u001b[1;34m(self, query, verbose, **kwargs)\u001b[0m\n\u001b[0;32m    191\u001b[0m \u001b[1;33m\u001b[0m\u001b[0m\n\u001b[0;32m    192\u001b[0m         \u001b[1;31m# Send http get request to pull the data from SAP IBP\u001b[0m\u001b[1;33m\u001b[0m\u001b[1;33m\u001b[0m\u001b[1;33m\u001b[0m\u001b[0m\n\u001b[1;32m--> 193\u001b[1;33m         \u001b[0mresponse\u001b[0m \u001b[1;33m=\u001b[0m \u001b[0mself\u001b[0m\u001b[1;33m.\u001b[0m\u001b[0mconnector\u001b[0m\u001b[1;33m.\u001b[0m\u001b[0mget\u001b[0m\u001b[1;33m(\u001b[0m\u001b[0murl\u001b[0m\u001b[1;33m=\u001b[0m\u001b[0murl\u001b[0m\u001b[1;33m)\u001b[0m\u001b[1;33m\u001b[0m\u001b[1;33m\u001b[0m\u001b[0m\n\u001b[0m\u001b[0;32m    194\u001b[0m \u001b[1;33m\u001b[0m\u001b[0m\n\u001b[0;32m    195\u001b[0m         \u001b[1;31m# Converting to a Pandas DataFrame\u001b[0m\u001b[1;33m\u001b[0m\u001b[1;33m\u001b[0m\u001b[1;33m\u001b[0m\u001b[0m\n",
      "\u001b[1;32m~\\Anaconda3\\lib\\site-packages\\sap_ibp_connector\\connector.py\u001b[0m in \u001b[0;36mget\u001b[1;34m(self, url, **kwargs)\u001b[0m\n\u001b[0;32m     52\u001b[0m \u001b[1;33m\u001b[0m\u001b[0m\n\u001b[0;32m     53\u001b[0m     \u001b[1;32mdef\u001b[0m \u001b[0mget\u001b[0m\u001b[1;33m(\u001b[0m\u001b[0mself\u001b[0m\u001b[1;33m,\u001b[0m \u001b[0murl\u001b[0m\u001b[1;33m:\u001b[0m \u001b[0mstr\u001b[0m\u001b[1;33m,\u001b[0m \u001b[1;33m**\u001b[0m\u001b[0mkwargs\u001b[0m\u001b[1;33m)\u001b[0m \u001b[1;33m->\u001b[0m \u001b[0mrequests\u001b[0m\u001b[1;33m.\u001b[0m\u001b[0mResponse\u001b[0m\u001b[1;33m:\u001b[0m\u001b[1;33m\u001b[0m\u001b[1;33m\u001b[0m\u001b[0m\n\u001b[1;32m---> 54\u001b[1;33m         \u001b[1;32mreturn\u001b[0m \u001b[0mself\u001b[0m\u001b[1;33m.\u001b[0m\u001b[0m_session\u001b[0m\u001b[1;33m.\u001b[0m\u001b[0mget\u001b[0m\u001b[1;33m(\u001b[0m\u001b[0murl\u001b[0m\u001b[1;33m,\u001b[0m \u001b[1;33m**\u001b[0m\u001b[0mkwargs\u001b[0m\u001b[1;33m)\u001b[0m\u001b[1;33m\u001b[0m\u001b[1;33m\u001b[0m\u001b[0m\n\u001b[0m\u001b[0;32m     55\u001b[0m \u001b[1;33m\u001b[0m\u001b[0m\n\u001b[0;32m     56\u001b[0m     \u001b[1;32mdef\u001b[0m \u001b[0mpost\u001b[0m\u001b[1;33m(\u001b[0m\u001b[0mself\u001b[0m\u001b[1;33m,\u001b[0m \u001b[0murl\u001b[0m\u001b[1;33m:\u001b[0m \u001b[0mstr\u001b[0m\u001b[1;33m,\u001b[0m \u001b[0mjson\u001b[0m\u001b[1;33m:\u001b[0m \u001b[0mUnion\u001b[0m\u001b[1;33m[\u001b[0m\u001b[0mstr\u001b[0m\u001b[1;33m,\u001b[0m \u001b[0mDict\u001b[0m\u001b[1;33m[\u001b[0m\u001b[0mstr\u001b[0m\u001b[1;33m,\u001b[0m \u001b[0mAny\u001b[0m\u001b[1;33m]\u001b[0m\u001b[1;33m]\u001b[0m\u001b[1;33m,\u001b[0m \u001b[1;33m**\u001b[0m\u001b[0mkwargs\u001b[0m\u001b[1;33m)\u001b[0m \u001b[1;33m->\u001b[0m \u001b[0mrequests\u001b[0m\u001b[1;33m.\u001b[0m\u001b[0mResponse\u001b[0m\u001b[1;33m:\u001b[0m\u001b[1;33m\u001b[0m\u001b[1;33m\u001b[0m\u001b[0m\n",
      "\u001b[1;32m~\\Anaconda3\\lib\\site-packages\\requests\\sessions.py\u001b[0m in \u001b[0;36mget\u001b[1;34m(self, url, **kwargs)\u001b[0m\n\u001b[0;32m    541\u001b[0m \u001b[1;33m\u001b[0m\u001b[0m\n\u001b[0;32m    542\u001b[0m         \u001b[0mkwargs\u001b[0m\u001b[1;33m.\u001b[0m\u001b[0msetdefault\u001b[0m\u001b[1;33m(\u001b[0m\u001b[1;34m'allow_redirects'\u001b[0m\u001b[1;33m,\u001b[0m \u001b[1;32mTrue\u001b[0m\u001b[1;33m)\u001b[0m\u001b[1;33m\u001b[0m\u001b[1;33m\u001b[0m\u001b[0m\n\u001b[1;32m--> 543\u001b[1;33m         \u001b[1;32mreturn\u001b[0m \u001b[0mself\u001b[0m\u001b[1;33m.\u001b[0m\u001b[0mrequest\u001b[0m\u001b[1;33m(\u001b[0m\u001b[1;34m'GET'\u001b[0m\u001b[1;33m,\u001b[0m \u001b[0murl\u001b[0m\u001b[1;33m,\u001b[0m \u001b[1;33m**\u001b[0m\u001b[0mkwargs\u001b[0m\u001b[1;33m)\u001b[0m\u001b[1;33m\u001b[0m\u001b[1;33m\u001b[0m\u001b[0m\n\u001b[0m\u001b[0;32m    544\u001b[0m \u001b[1;33m\u001b[0m\u001b[0m\n\u001b[0;32m    545\u001b[0m     \u001b[1;32mdef\u001b[0m \u001b[0moptions\u001b[0m\u001b[1;33m(\u001b[0m\u001b[0mself\u001b[0m\u001b[1;33m,\u001b[0m \u001b[0murl\u001b[0m\u001b[1;33m,\u001b[0m \u001b[1;33m**\u001b[0m\u001b[0mkwargs\u001b[0m\u001b[1;33m)\u001b[0m\u001b[1;33m:\u001b[0m\u001b[1;33m\u001b[0m\u001b[1;33m\u001b[0m\u001b[0m\n",
      "\u001b[1;32m~\\Anaconda3\\lib\\site-packages\\requests\\sessions.py\u001b[0m in \u001b[0;36mrequest\u001b[1;34m(self, method, url, params, data, headers, cookies, files, auth, timeout, allow_redirects, proxies, hooks, stream, verify, cert, json)\u001b[0m\n\u001b[0;32m    528\u001b[0m         }\n\u001b[0;32m    529\u001b[0m         \u001b[0msend_kwargs\u001b[0m\u001b[1;33m.\u001b[0m\u001b[0mupdate\u001b[0m\u001b[1;33m(\u001b[0m\u001b[0msettings\u001b[0m\u001b[1;33m)\u001b[0m\u001b[1;33m\u001b[0m\u001b[1;33m\u001b[0m\u001b[0m\n\u001b[1;32m--> 530\u001b[1;33m         \u001b[0mresp\u001b[0m \u001b[1;33m=\u001b[0m \u001b[0mself\u001b[0m\u001b[1;33m.\u001b[0m\u001b[0msend\u001b[0m\u001b[1;33m(\u001b[0m\u001b[0mprep\u001b[0m\u001b[1;33m,\u001b[0m \u001b[1;33m**\u001b[0m\u001b[0msend_kwargs\u001b[0m\u001b[1;33m)\u001b[0m\u001b[1;33m\u001b[0m\u001b[1;33m\u001b[0m\u001b[0m\n\u001b[0m\u001b[0;32m    531\u001b[0m \u001b[1;33m\u001b[0m\u001b[0m\n\u001b[0;32m    532\u001b[0m         \u001b[1;32mreturn\u001b[0m \u001b[0mresp\u001b[0m\u001b[1;33m\u001b[0m\u001b[1;33m\u001b[0m\u001b[0m\n",
      "\u001b[1;32m~\\Anaconda3\\lib\\site-packages\\requests\\sessions.py\u001b[0m in \u001b[0;36msend\u001b[1;34m(self, request, **kwargs)\u001b[0m\n\u001b[0;32m    635\u001b[0m \u001b[1;33m\u001b[0m\u001b[0m\n\u001b[0;32m    636\u001b[0m         \u001b[1;31m# Get the appropriate adapter to use\u001b[0m\u001b[1;33m\u001b[0m\u001b[1;33m\u001b[0m\u001b[1;33m\u001b[0m\u001b[0m\n\u001b[1;32m--> 637\u001b[1;33m         \u001b[0madapter\u001b[0m \u001b[1;33m=\u001b[0m \u001b[0mself\u001b[0m\u001b[1;33m.\u001b[0m\u001b[0mget_adapter\u001b[0m\u001b[1;33m(\u001b[0m\u001b[0murl\u001b[0m\u001b[1;33m=\u001b[0m\u001b[0mrequest\u001b[0m\u001b[1;33m.\u001b[0m\u001b[0murl\u001b[0m\u001b[1;33m)\u001b[0m\u001b[1;33m\u001b[0m\u001b[1;33m\u001b[0m\u001b[0m\n\u001b[0m\u001b[0;32m    638\u001b[0m \u001b[1;33m\u001b[0m\u001b[0m\n\u001b[0;32m    639\u001b[0m         \u001b[1;31m# Start time (approximately) of the request\u001b[0m\u001b[1;33m\u001b[0m\u001b[1;33m\u001b[0m\u001b[1;33m\u001b[0m\u001b[0m\n",
      "\u001b[1;32m~\\Anaconda3\\lib\\site-packages\\requests\\sessions.py\u001b[0m in \u001b[0;36mget_adapter\u001b[1;34m(self, url)\u001b[0m\n\u001b[0;32m    728\u001b[0m \u001b[1;33m\u001b[0m\u001b[0m\n\u001b[0;32m    729\u001b[0m         \u001b[1;31m# Nothing matches :-/\u001b[0m\u001b[1;33m\u001b[0m\u001b[1;33m\u001b[0m\u001b[1;33m\u001b[0m\u001b[0m\n\u001b[1;32m--> 730\u001b[1;33m         \u001b[1;32mraise\u001b[0m \u001b[0mInvalidSchema\u001b[0m\u001b[1;33m(\u001b[0m\u001b[1;34m\"No connection adapters were found for {!r}\"\u001b[0m\u001b[1;33m.\u001b[0m\u001b[0mformat\u001b[0m\u001b[1;33m(\u001b[0m\u001b[0murl\u001b[0m\u001b[1;33m)\u001b[0m\u001b[1;33m)\u001b[0m\u001b[1;33m\u001b[0m\u001b[1;33m\u001b[0m\u001b[0m\n\u001b[0m\u001b[0;32m    731\u001b[0m \u001b[1;33m\u001b[0m\u001b[0m\n\u001b[0;32m    732\u001b[0m     \u001b[1;32mdef\u001b[0m \u001b[0mclose\u001b[0m\u001b[1;33m(\u001b[0m\u001b[0mself\u001b[0m\u001b[1;33m)\u001b[0m\u001b[1;33m:\u001b[0m\u001b[1;33m\u001b[0m\u001b[1;33m\u001b[0m\u001b[0m\n",
      "\u001b[1;31mInvalidSchema\u001b[0m: No connection adapters were found for \"Ellipsis/ZAPPLESI3?&$select=PRDID,PRDDESCR,LOCREGION,CUSTBUFFER2,LOCID,LOCDESCR,PRDGROUP,PRDGROUPID,BRAND,BRANDID,DOSAGEFORM,DOSAGEFORMID,DOSAGE,DOSAGEID,PACKAGINGTYPE,PACKAGINGTYPEID,SUPPLYCHAINCAT,LOCBUFFER3,PERIODID3_TSTAMP,CONSENSUSDEMANDQTYLM,CONSENSUSDEMANDQTY,ACTUALSQTY,FINALSTATFCSTQTY,CDPQ0MLAG,CDPQ1MLAG,CDPQ2MLAG,CDPQ3MLAG,CDPQ4MLAG,CDPQ5MLAG,FREEOFCHARGESALES,SUMACTFOC,STATISTICALFORECASTQTY3MLAG,ZFINALSTATFCSTQTY&$filter=((UOMTOID eq 'PC') and (PERIODID3_TSTAMP ge datetime'2020-09-01T00:00:00') and (PERIODID3_TSTAMP le datetime'2022-08-01T00:00:00'))&$skip=0&$top=100000\""
     ]
    }
   ],
   "source": [
    "# Set up connection using IBPConnector\n",
    "with IBPConnector(\n",
    "    username=IBP_USERNAME_MD_KF,\n",
    "    password=IBP_PASSWORD_MD_KF,\n",
    "    planning_area=IBP_PLANNING_AREA,\n",
    "    url=IBP_URL_KF,\n",
    ") as connector:\n",
    "\n",
    "    # Instantiate data downloader\n",
    "    downloader = KeyfigureDataDownloader(connector)\n",
    "\n",
    "    # Create a query\n",
    "    select_query = select(\"PRDID\", \"PRDDESCR\", \"LOCREGION\", \"CUSTBUFFER2\", \"LOCID\", \"LOCDESCR\", \"PRDGROUP\", \"PRDGROUPID\", \"BRAND\", \"BRANDID\", \"DOSAGEFORM\", \"DOSAGEFORMID\", \"DOSAGE\", \"DOSAGEID\", \"PACKAGINGTYPE\", \"PACKAGINGTYPEID\", \"SUPPLYCHAINCAT\", \"LOCBUFFER3\", \"PERIODID3_TSTAMP\", \"CONSENSUSDEMANDQTYLM\", \"CONSENSUSDEMANDQTY\", \"ACTUALSQTY\", \"FINALSTATFCSTQTY\", \"CDPQ0MLAG\", \"CDPQ1MLAG\", \"CDPQ2MLAG\", \"CDPQ3MLAG\", \"CDPQ4MLAG\", \"CDPQ5MLAG\", \"FREEOFCHARGESALES\", \"SUMACTFOC\", \"STATISTICALFORECASTQTY3MLAG\", \"ZFINALSTATFCSTQTY\")\n",
    "\n",
    "    filter_query = AND(\n",
    "        filter.eq(\"UOMTOID\", \"PC\"),\n",
    "        filter.ge(\"PERIODID3_TSTAMP\", string_to_query_date(\"2020-09-01\", \"%Y-%m-%d\")),\n",
    "        filter.le(\"PERIODID3_TSTAMP\", string_to_query_date(\"2022-08-01\", \"%Y-%m-%d\")),\n",
    "    )\n",
    "\n",
    "    query = Query(select_query, filter_query)\n",
    "    query = select_query + filter_query\n",
    "\n",
    "    # Download data\n",
    "    df, response = downloader.download_in_chunks(query=query)"
   ]
  },
  {
   "cell_type": "code",
   "execution_count": null,
   "metadata": {},
   "outputs": [],
   "source": [
    "df.tail()"
   ]
  },
  {
   "cell_type": "markdown",
   "metadata": {},
   "source": [
    "## Example of reading master data"
   ]
  },
  {
   "cell_type": "code",
   "execution_count": null,
   "metadata": {},
   "outputs": [],
   "source": [
    "# CREDENTIALS PROD\n",
    "IBP_USERNAME_MD_KF = ...\n",
    "IBP_PASSWORD_MD_KF = ...\n",
    "IBP_URL_KF = ...\n",
    "IBP_PLANNING_AREA = \"ZAPPLESI3\""
   ]
  },
  {
   "cell_type": "code",
   "execution_count": null,
   "metadata": {},
   "outputs": [],
   "source": [
    "# Define the master data table you wish to read\n",
    "masterdata_table = 'ZACLOCATIONPRODUCT'"
   ]
  },
  {
   "cell_type": "code",
   "execution_count": null,
   "metadata": {},
   "outputs": [],
   "source": [
    "help(MasterdataDownloader)"
   ]
  },
  {
   "cell_type": "code",
   "execution_count": null,
   "metadata": {},
   "outputs": [],
   "source": [
    "with IBPConnector(\n",
    "    username=IBP_USERNAME_MD_KF,\n",
    "    password=IBP_PASSWORD_MD_KF,\n",
    "    planning_area=IBP_PLANNING_AREA,\n",
    "    url=IBP_URL_KF,\n",
    ") as ibp_connector:\n",
    "\n",
    "    md_downloader = MasterdataDownloader(ibp_connector, masterdata_table=masterdata_table)\n",
    "    df, response_results = md_downloader.download_in_chunks(chunk_size=1000)"
   ]
  },
  {
   "cell_type": "markdown",
   "metadata": {},
   "source": [
    "## Example of writing key-figure data"
   ]
  },
  {
   "cell_type": "code",
   "execution_count": null,
   "metadata": {},
   "outputs": [],
   "source": [
    "# Using DEV credentials for testing here\n",
    "\n",
    "# CREDENTIALS DEV\n",
    "IBP_USERNAME_MD_KF = ...\n",
    "IBP_PASSWORD_MD_KF = ...\n",
    "IBP_URL_KF = ...\n",
    "IBP_PLANNING_AREA = \"ZAPPLESI3\""
   ]
  },
  {
   "cell_type": "code",
   "execution_count": null,
   "metadata": {},
   "outputs": [],
   "source": [
    "upload_df = pd.DataFrame(\n",
    "    [\n",
    "        [\"114265\", \"AT50\", \"2022-09-01T00:00\", \"429.0\"],\n",
    "        [\"114265\", \"AT50\", \"2022-10-01T00:00\", \"1129.0\"],\n",
    "    ],\n",
    "    columns=[\"PRDID\", \"LOCID\", \"PERIODID3_TSTAMP\", \"ZAIAFCSTLOADPRODLOC\"],\n",
    ")"
   ]
  },
  {
   "cell_type": "code",
   "execution_count": null,
   "metadata": {},
   "outputs": [],
   "source": [
    "upload_df.head()"
   ]
  },
  {
   "cell_type": "code",
   "execution_count": null,
   "metadata": {},
   "outputs": [],
   "source": [
    "with IBPConnector(\n",
    "    username=IBP_USERNAME_MD_KF,\n",
    "    password=IBP_PASSWORD_MD_KF,\n",
    "    planning_area=IBP_PLANNING_AREA,\n",
    "    url=IBP_URL_KF,\n",
    ") as ibp_connector:\n",
    "\n",
    "    kf_uploader = KeyfigureDataUploader(ibp_connector)\n",
    "    res = kf_uploader.upload(upload_df)"
   ]
  },
  {
   "cell_type": "code",
   "execution_count": null,
   "metadata": {},
   "outputs": [],
   "source": [
    "res"
   ]
  }
 ],
 "metadata": {
  "associatedRecipe": "compute_dummy_out_1",
  "createdOn": 1662621504388,
  "creationTag": {
   "lastModifiedBy": {
    "login": "rijkvandermeulen"
   },
   "lastModifiedOn": 1662621504388,
   "versionNumber": 0
  },
  "creator": "rijkvandermeulen",
  "customFields": {},
  "dkuGit": {
   "lastInteraction": 0
  },
  "hide_input": false,
  "kernelspec": {
   "display_name": "Python 3",
   "language": "python",
   "name": "python3"
  },
  "language_info": {
   "codemirror_mode": {
    "name": "ipython",
    "version": 3
   },
   "file_extension": ".py",
   "mimetype": "text/x-python",
   "name": "python",
   "nbconvert_exporter": "python",
   "pygments_lexer": "ipython3",
   "version": "3.8.5"
  },
  "modifiedBy": "rijkvandermeulen",
  "tags": [
   "recipe-editor"
  ]
 },
 "nbformat": 4,
 "nbformat_minor": 4
}
