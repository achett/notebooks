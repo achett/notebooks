{
 "cells": [
  {
   "cell_type": "code",
   "execution_count": 2,
   "metadata": {},
   "outputs": [
    {
     "name": "stderr",
     "output_type": "stream",
     "text": [
      "C:\\Users\\A4023862\\Anaconda3\\lib\\site-packages\\pandas\\core\\computation\\expressions.py:20: UserWarning: Pandas requires version '2.7.3' or newer of 'numexpr' (version '2.7.1' currently installed).\n",
      "  from pandas.core.computation.check import NUMEXPR_INSTALLED\n"
     ]
    }
   ],
   "source": [
    "import pandas as pd\n",
    "import numpy as np\n",
    "import matplotlib.pyplot as plt\n",
    "import scipy\n",
    "from datetime import datetime\n",
    "import time\n",
    "import os\n",
    "import warnings\n",
    "from siml.detect_peaks import *\n",
    "from scipy.signal import savgol_filter\n",
    "from sklearn.metrics import mean_squared_error\n",
    "warnings.filterwarnings(\"ignore\")\n",
    "\n",
    "input_folder = r'C:\\Users\\A4023862\\OneDrive - Astellas Pharma Inc\\Forecasting Product\\DBM\\inputs'\n",
    "output_folder =  r'C:\\Users\\A4023862\\OneDrive - Astellas Pharma Inc\\Forecasting Product\\DBM\\outputs'"
   ]
  },
  {
   "cell_type": "code",
   "execution_count": 17,
   "metadata": {},
   "outputs": [],
   "source": [
    "######################\n",
    "# READ IN DATA\n",
    "######################\n",
    "input_file = r'cm_202212\\last_12_act.csv'\n",
    "path = os.path.join(input_folder, input_file)\n",
    "last12_a=pd.read_csv(path)\n",
    "\n",
    "input_file = r'cm_202212\\last_12_fct_loe.csv'\n",
    "path = os.path.join(input_folder, input_file)\n",
    "last12_f=pd.read_csv(path)\n",
    "\n",
    "# Fix column names\n",
    "last12_a.columns = ['2021-12-01', '2022-01-01', '2022-02-01', '2022-03-01', '2022-04-01',\n",
    "       '2022-05-01', '2022-06-01', '2022-07-01', '2022-08-01', '2022-09-01',\n",
    "       '2022-10-01', '2022-11-01', 'tag', 'cost_objects', 'product',\n",
    "       'run_type']\n",
    "\n",
    "last12_f.columns = ['2021-12-01', '2022-01-01', '2022-02-01', '2022-03-01', '2022-04-01',\n",
    "       '2022-05-01', '2022-06-01', '2022-07-01', '2022-08-01', '2022-09-01',\n",
    "       '2022-10-01', '2022-11-01', 'tag', 'cost_objects', 'product',\n",
    "       'run_type', 'yearly_error', 'rmse', 'model_tag', 'last_12_fct_total']\n",
    "\n",
    "# Subset\n",
    "last12_a = last12_a[['2021-12-01', '2022-01-01', '2022-02-01', '2022-03-01', '2022-04-01',\n",
    "       '2022-05-01', '2022-06-01', '2022-07-01', '2022-08-01', '2022-09-01',\n",
    "       '2022-10-01', '2022-11-01', 'tag', 'cost_objects', 'product']]\n",
    "\n",
    "last12_f = last12_f[['2021-12-01', '2022-01-01', '2022-02-01', '2022-03-01', '2022-04-01',\n",
    "       '2022-05-01', '2022-06-01', '2022-07-01', '2022-08-01', '2022-09-01',\n",
    "       '2022-10-01', '2022-11-01', 'tag', 'cost_objects', 'product']]\n",
    "\n",
    "# Pivot Table\n",
    "last12_a=last12_a.melt(id_vars=['tag', 'cost_objects', 'product'], \n",
    "        var_name=\"ds\", \n",
    "        value_name=\"value_a\")\n",
    "\n",
    "last12_f=last12_f.melt(id_vars=['tag', 'cost_objects', 'product'], \n",
    "        var_name=\"ds\", \n",
    "        value_name=\"value_f\")\n",
    "\n",
    "# Create combines df\n",
    "last12_c=last12_f.merge(last12_a[['tag', 'ds', 'value_a']], on=['tag', 'ds'], how='inner') "
   ]
  },
  {
   "cell_type": "code",
   "execution_count": 18,
   "metadata": {},
   "outputs": [],
   "source": [
    "######################\n",
    "# TIME SERIES METRICS\n",
    "######################\n",
    "def mape(actual, pred): \n",
    "    actual, pred = np.array(actual), np.array(pred)\n",
    "    return np.mean(np.abs((actual - pred) / actual)) * 100\n",
    "\n",
    "# Create output df\n",
    "# output = pd.DataFrame(columns=['tag','mape']) # Output of Phase 1\n",
    "tags_sdf=[]\n",
    "sum_a=[]\n",
    "sum_f=[]\n",
    "mape_sdf=[]\n",
    "\n",
    "# Get list of tags\n",
    "tags = last12_c['tag'].unique()\n",
    "\n",
    "for tag in tags:\n",
    "    actual=last12_c[last12_c['tag']==tag]['value_a']\n",
    "    pred=last12_c[last12_c['tag']==tag]['value_f']\n",
    "    \n",
    "    tags_sdf.append(tag)\n",
    "    sum_a.append(sum(actual))\n",
    "    sum_f.append(sum(pred))\n",
    "    mape_sdf.append(mape(actual, pred))\n",
    "    \n",
    "# Final Df\n",
    "output= pd.DataFrame({'tag': tags_sdf,'sum_actuals': sum_a,'sum_pred': sum_f,'mape': mape_sdf})\n"
   ]
  },
  {
   "cell_type": "code",
   "execution_count": 19,
   "metadata": {},
   "outputs": [],
   "source": [
    "# Yearly Error calculation\n",
    "output['ye'] = (( output['sum_pred'] - output['sum_actuals'] ) / output['sum_actuals'] ) * 100\n",
    "output['abs_ye'] = abs(output['ye'])\n",
    "\n",
    "# Re-add region, product\n",
    "q=last12_c[['tag', 'cost_objects', 'product']].drop_duplicates()\n",
    "output = output.merge(q, on='tag', how='left')\n",
    "\n",
    "output = output[['tag', 'cost_objects', 'product', 'sum_actuals', 'sum_pred', 'mape', 'ye', 'abs_ye']]\n",
    "\n",
    "# Save new sales data\n",
    "output_file = 'ts_metrics.csv'\n",
    "path = os.path.join(output_folder, output_file)\n",
    "output.to_csv(path)"
   ]
  }
 ],
 "metadata": {
  "kernelspec": {
   "display_name": "Python 3",
   "language": "python",
   "name": "python3"
  },
  "language_info": {
   "codemirror_mode": {
    "name": "ipython",
    "version": 3
   },
   "file_extension": ".py",
   "mimetype": "text/x-python",
   "name": "python",
   "nbconvert_exporter": "python",
   "pygments_lexer": "ipython3",
   "version": "3.8.5"
  }
 },
 "nbformat": 4,
 "nbformat_minor": 4
}
