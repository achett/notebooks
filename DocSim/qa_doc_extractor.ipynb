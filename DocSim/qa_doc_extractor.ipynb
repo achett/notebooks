{
 "cells": [
  {
   "cell_type": "code",
   "execution_count": 17,
   "metadata": {},
   "outputs": [
    {
     "data": {
      "text/plain": [
       "('C:\\\\Users\\\\A4023862\\\\OneDrive - Astellas Pharma Inc\\\\SOP\\\\DocSim/data/IS/POL-604.pdf',\n",
       " <http.client.HTTPMessage at 0x230b197f940>)"
      ]
     },
     "execution_count": 17,
     "metadata": {},
     "output_type": "execute_result"
    }
   ],
   "source": [
    "import os\n",
    "import pandas as pd\n",
    "from urllib.request import urlretrieve\n",
    "\n",
    "\n",
    "wd = r'C:\\Users\\A4023862\\OneDrive - Astellas Pharma Inc\\SOP'"
   ]
  },
  {
   "cell_type": "code",
   "execution_count": 40,
   "metadata": {
    "tags": []
   },
   "outputs": [],
   "source": [
    "#######################\n",
    "# GET DOC INFO\n",
    "#######################\n",
    "\n",
    "# Get file with document urls and names\n",
    "input_file = r'- QVSearchPortal All.xlsx'\n",
    "path = os.path.join(wd, input_file)\n",
    "qa_doc_list=pd.read_excel(path, sheet_name='raw', engine='openpyxl', skiprows = 0)\n",
    "\n",
    "# Filter list\n",
    "qa_doc_list2=qa_doc_list[qa_doc_list['Owning Division']=='Information Systems']\n",
    "qa_doc_list2=qa_doc_list2[qa_doc_list2['Language']=='English']\n",
    "qa_doc_list2=qa_doc_list2[qa_doc_list2['Document Sub Type'].isin(['Policy', 'Standard Operating Procedure (SOP)', 'Work Instruction', 'Template'])]\n",
    "qa_doc_list2=qa_doc_list2[qa_doc_list2['Status']=='Effective']\n",
    "qa_doc_list2=qa_doc_list2.reset_index()"
   ]
  },
  {
   "cell_type": "code",
   "execution_count": 49,
   "metadata": {},
   "outputs": [],
   "source": [
    "#######################\n",
    "# FETCH AND SAVE DOCS\n",
    "#######################\n",
    "\n",
    "for i in range(0,len(qa_doc_list2)):\n",
    "    # Get document metadata\n",
    "    doc_name = qa_doc_list2['Document Name'][i]\n",
    "    doc_url = qa_doc_list2['URL'][i]\n",
    "\n",
    "    # Create location to save doc\n",
    "    output_file = 'DocSim/data/IS/'+ doc_name +'.pdf'\n",
    "    path2save = os.path.join(wd, output_file)\n",
    "\n",
    "    urlretrieve(doc_url, path2save)"
   ]
  }
 ],
 "metadata": {
  "kernelspec": {
   "display_name": "Python 3",
   "language": "python",
   "name": "python3"
  },
  "language_info": {
   "codemirror_mode": {
    "name": "ipython",
    "version": 3
   },
   "file_extension": ".py",
   "mimetype": "text/x-python",
   "name": "python",
   "nbconvert_exporter": "python",
   "pygments_lexer": "ipython3",
   "version": "3.8.5"
  }
 },
 "nbformat": 4,
 "nbformat_minor": 4
}
