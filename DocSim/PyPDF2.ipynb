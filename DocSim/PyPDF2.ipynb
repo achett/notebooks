{
 "cells": [
  {
   "cell_type": "markdown",
   "id": "aba3ff9d-6b53-4662-997b-07f55b042600",
   "metadata": {},
   "source": [
    "# PDF to Txt"
   ]
  },
  {
   "cell_type": "code",
   "execution_count": 1,
   "id": "7afb4058-0a51-4a01-bedd-442227762a48",
   "metadata": {},
   "outputs": [],
   "source": [
    "import glob\n",
    "import os\n",
    "import PyPDF2\n",
    "import re\n",
    "\n",
    "# PDF folder\n",
    "path_pdf = '/rwi/users/schettiath/SOP TO Chatbot/01 Raw/01 PDFs/Non-Standard Font Encoding/'"
   ]
  },
  {
   "cell_type": "code",
   "execution_count": 5,
   "id": "79c14da6-3cd8-475b-beb5-01ab2ca8ca8e",
   "metadata": {},
   "outputs": [
    {
     "name": "stdout",
     "output_type": "stream",
     "text": [
      "SOP-1704.pdf\n",
      "FAILED\n",
      "SOP-1877.pdf\n",
      "FAILED\n",
      "SOP-1921.pdf\n",
      "FAILED\n",
      "SOP-3142.pdf\n",
      "FAILED\n",
      "POL-891.pdf\n",
      "FAILED\n",
      "SOP-3088.pdf\n",
      "FAILED\n",
      "SOP-1943.pdf\n"
     ]
    },
    {
     "name": "stderr",
     "output_type": "stream",
     "text": [
      "PdfReadWarning: Xref table not zero-indexed. ID numbers for objects will be corrected. [pdf.py:1736]\n"
     ]
    },
    {
     "name": "stdout",
     "output_type": "stream",
     "text": [
      "POL-409.pdf\n",
      "FAILED\n",
      "SOP-1772.pdf\n",
      "FAILED\n",
      "SOP-2754.pdf\n",
      "FAILED\n",
      "SOP-3227.pdf\n",
      "FAILED\n",
      "POL-399.pdf\n",
      "FAILED\n",
      "POL-162.pdf\n",
      "FAILED\n",
      "POL-928.pdf\n",
      "FAILED\n",
      "SOP-3176.pdf\n",
      "FAILED\n",
      "POL-319.pdf\n",
      "FAILED\n",
      "POL-879.pdf\n",
      "FAILED\n",
      "SOP-3187.pdf\n",
      "FAILED\n",
      "SOP-1771.pdf\n",
      "FAILED\n"
     ]
    }
   ],
   "source": [
    "# Pull names of all documents ending with '.docx' inside 'path_docx'\n",
    "names = [os.path.basename(x) for x in glob.glob(path_pdf + '*.pdf')]\n",
    "\n",
    "for name in names:\n",
    "    print(name)\n",
    "    try:\n",
    "        # Generate txt for all PDFs inside the PDF folder\n",
    "        pdfReader = PyPDF2.PdfFileReader(path_pdf + name)\n",
    "        count = pdfReader.numPages\n",
    "        output = []\n",
    "        for i in range(0,count):\n",
    "            page = pdfReader.getPage(i)\n",
    "            text = page.extractText()\n",
    "            text = text.replace('\\n', '')\n",
    "            text = text.replace('  ', ' ')\n",
    "            text = re.sub('Doc Title:.+Page\\s[0-9]+\\sof\\s[0-9]+', '', text)\n",
    "            text = text.strip()\n",
    "            output.append(text)\n",
    "\n",
    "        joined_string = ' '.join(output)\n",
    "        joined_string = re.sub('TABLE OF CONTENTS.+\\.+\\s[0-9]+\\sI\\.\\sPURPOSE ', '', joined_string)\n",
    "        joined_string = re.sub('[A-Z]+\\.\\sDOCUMENT HISTORY.+[A-Z]+\\.\\sATTACHMENTS ', '', joined_string)\n",
    "        joined_string = joined_string.replace(' o ', ' ')\n",
    "        # Store generated txt file inside the path_txt\n",
    "        fhand = open(path_pdf + 'txt/' + name[:-4] + '.txt', 'w', encoding='utf8')\n",
    "        fhand.write(joined_string)\n",
    "        fhand.close()\n",
    "    except:\n",
    "        print('FAILED')"
   ]
  },
  {
   "cell_type": "code",
   "execution_count": null,
   "id": "08e8b8c7-27b8-4bc0-a076-4087ea8c227d",
   "metadata": {},
   "outputs": [],
   "source": []
  }
 ],
 "metadata": {
  "createdOn": 1659976851396,
  "creator": "ffei",
  "customFields": {},
  "hide_input": false,
  "kernelspec": {
   "display_name": "Python 3",
   "language": "python",
   "name": "python3"
  },
  "language_info": {
   "codemirror_mode": {
    "name": "ipython",
    "version": 3
   },
   "file_extension": ".py",
   "mimetype": "text/x-python",
   "name": "python",
   "nbconvert_exporter": "python",
   "pygments_lexer": "ipython3",
   "version": "3.8.5"
  },
  "modifiedBy": "schettiath",
  "tags": []
 },
 "nbformat": 4,
 "nbformat_minor": 5
}
