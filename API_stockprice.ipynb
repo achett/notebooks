{
 "cells": [
  {
   "cell_type": "code",
   "execution_count": 2,
   "metadata": {},
   "outputs": [],
   "source": [
    "from yahoo_finance_api2 import share\n",
    "from yahoo_finance_api2.exceptions import YahooFinanceError\n",
    "import pandas as pd\n",
    " \n",
    "code = 4503 # Astellas's company code used in Tokyo stock exchange\n",
    "S_year = 5 # period (year)\n",
    "S_day = 1 # daily"
   ]
  },
  {
   "cell_type": "code",
   "execution_count": 3,
   "metadata": {},
   "outputs": [],
   "source": [
    "def stock_price():\n",
    "    company_code = str(code) + '.T'\n",
    "    my_share = share.Share(company_code)\n",
    "    symbol_data = None\n",
    " \n",
    "    try:\n",
    "        symbol_data = my_share.get_historical(share.PERIOD_TYPE_YEAR,\n",
    "                                              S_year,\n",
    "                                              share.FREQUENCY_TYPE_DAY,\n",
    "                                              S_day)\n",
    "    except YahooFinanceError as e:\n",
    "        print(e.message)\n",
    "        sys.exit(1)\n",
    "        \n",
    "    df_base = pd.DataFrame(symbol_data)\n",
    "    df_base = pd.DataFrame(symbol_data.values(), index=symbol_data.keys()).T\n",
    "    df_base.timestamp = pd.to_datetime(df_base.timestamp, unit='ms')\n",
    "    df_base.index = pd.DatetimeIndex(df_base.timestamp, name='timestamp').tz_localize('UTC').tz_convert('Asia/Tokyo')\n",
    "    df_base = df_base.reset_index(drop=True)\n",
    "        \n",
    "    return company_code, df_base"
   ]
  },
  {
   "cell_type": "code",
   "execution_count": 4,
   "metadata": {},
   "outputs": [
    {
     "name": "stdout",
     "output_type": "stream",
     "text": [
      "4503.T (1242, 6)\n"
     ]
    },
    {
     "data": {
      "text/html": [
       "<div>\n",
       "<style scoped>\n",
       "    .dataframe tbody tr th:only-of-type {\n",
       "        vertical-align: middle;\n",
       "    }\n",
       "\n",
       "    .dataframe tbody tr th {\n",
       "        vertical-align: top;\n",
       "    }\n",
       "\n",
       "    .dataframe thead th {\n",
       "        text-align: right;\n",
       "    }\n",
       "</style>\n",
       "<table border=\"1\" class=\"dataframe\">\n",
       "  <thead>\n",
       "    <tr style=\"text-align: right;\">\n",
       "      <th></th>\n",
       "      <th>timestamp</th>\n",
       "      <th>open</th>\n",
       "      <th>high</th>\n",
       "      <th>low</th>\n",
       "      <th>close</th>\n",
       "      <th>volume</th>\n",
       "    </tr>\n",
       "  </thead>\n",
       "  <tbody>\n",
       "    <tr>\n",
       "      <th>0</th>\n",
       "      <td>2017-02-13</td>\n",
       "      <td>1537.5</td>\n",
       "      <td>1545.5</td>\n",
       "      <td>1529.0</td>\n",
       "      <td>1538.5</td>\n",
       "      <td>6145400.0</td>\n",
       "    </tr>\n",
       "    <tr>\n",
       "      <th>1</th>\n",
       "      <td>2017-02-14</td>\n",
       "      <td>1537.0</td>\n",
       "      <td>1538.5</td>\n",
       "      <td>1527.0</td>\n",
       "      <td>1530.0</td>\n",
       "      <td>7026700.0</td>\n",
       "    </tr>\n",
       "    <tr>\n",
       "      <th>2</th>\n",
       "      <td>2017-02-15</td>\n",
       "      <td>1540.5</td>\n",
       "      <td>1549.0</td>\n",
       "      <td>1538.5</td>\n",
       "      <td>1545.0</td>\n",
       "      <td>5353900.0</td>\n",
       "    </tr>\n",
       "    <tr>\n",
       "      <th>3</th>\n",
       "      <td>2017-02-16</td>\n",
       "      <td>1545.0</td>\n",
       "      <td>1554.0</td>\n",
       "      <td>1530.0</td>\n",
       "      <td>1539.0</td>\n",
       "      <td>6354300.0</td>\n",
       "    </tr>\n",
       "    <tr>\n",
       "      <th>4</th>\n",
       "      <td>2017-02-17</td>\n",
       "      <td>1522.5</td>\n",
       "      <td>1543.0</td>\n",
       "      <td>1521.5</td>\n",
       "      <td>1543.0</td>\n",
       "      <td>5465500.0</td>\n",
       "    </tr>\n",
       "  </tbody>\n",
       "</table>\n",
       "</div>"
      ],
      "text/plain": [
       "   timestamp    open    high     low   close     volume\n",
       "0 2017-02-13  1537.5  1545.5  1529.0  1538.5  6145400.0\n",
       "1 2017-02-14  1537.0  1538.5  1527.0  1530.0  7026700.0\n",
       "2 2017-02-15  1540.5  1549.0  1538.5  1545.0  5353900.0\n",
       "3 2017-02-16  1545.0  1554.0  1530.0  1539.0  6354300.0\n",
       "4 2017-02-17  1522.5  1543.0  1521.5  1543.0  5465500.0"
      ]
     },
     "execution_count": 4,
     "metadata": {},
     "output_type": "execute_result"
    }
   ],
   "source": [
    "result = stock_price()\n",
    "print(str(result[0]), result[1].shape)\n",
    " \n",
    "df_base = result[1]\n",
    " \n",
    "df_base.head()"
   ]
  }
 ],
 "metadata": {
  "kernelspec": {
   "display_name": "Python 3",
   "language": "python",
   "name": "python3"
  },
  "language_info": {
   "codemirror_mode": {
    "name": "ipython",
    "version": 3
   },
   "file_extension": ".py",
   "mimetype": "text/x-python",
   "name": "python",
   "nbconvert_exporter": "python",
   "pygments_lexer": "ipython3",
   "version": "3.8.5"
  }
 },
 "nbformat": 4,
 "nbformat_minor": 4
}
