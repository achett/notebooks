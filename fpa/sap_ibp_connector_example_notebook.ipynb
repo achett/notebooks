{
 "cells": [
  {
   "cell_type": "markdown",
   "metadata": {},
   "source": [
    "# Using the SAP IBP Connector\n",
    "\n",
    "Practical guide on how to get started"
   ]
  },
  {
   "cell_type": "markdown",
   "metadata": {},
   "source": [
    "## 1. Introduction"
   ]
  },
  {
   "cell_type": "markdown",
   "metadata": {},
   "source": [
    "### What does this package contain\n",
    "- Connector for connecting with SAP IBP\n",
    "- Downloaders for downloading data from various IBP sources (currently: Keyfigure, masterdata & change history)\n",
    "- Uploaders for uploading data to IBP (currently only Keyfigure)\n",
    "- Query API for constructing queries compatible with the SAP IBP API. The Query & Downloader objects are integrated."
   ]
  },
  {
   "cell_type": "markdown",
   "metadata": {},
   "source": [
    "### Downloading data from SAP IBP\n",
    "In order to download data from SAP IBP, use the various DataDownloader objects (e.g., KeyfigureDataDownloader and MasterdataDownloader). Downloaders return the requested data as a pandas dataframe, along with the response object from the requests library. View the specific downloader documentation to get information on what 'downloader-specific' information it requires.\n",
    "\n",
    "#### Basic usage\n",
    "```python\n",
    "from sap_ibp_connector import IBPConnector\n",
    "from sap_ibp_connector import (\n",
    "    KeyfigureDataDownloader,\n",
    "    MasterdataDownloader,\n",
    "    ChangeHistoryDownloader,\n",
    ")\n",
    "\n",
    "# Establish connection using IBPConnector\n",
    "with IBPConnector(username=username, password=password, planning_area=pa, url=url) as connector:\n",
    "    # Instantiate data downloader\n",
    "    downloader = MasterdataDownloader(connector, masterdata_table=my_table)\n",
    "\n",
    "    df, response = downloader.download()\n",
    "\n",
    "```\n",
    "\n",
    "Downloading is also supported in chunks. This will return a concatenated dataframe of all downloaded chunks and a list of response objects per request."
   ]
  },
  {
   "cell_type": "markdown",
   "metadata": {},
   "source": [
    "### Uploading data to SAP IBP\n",
    "The API supports uploading data to IBP. Data has to be send in json format, but uploaders provide support for converting pandas dataframes to a valid json to be send to IBP. You can provide the uploaders with a json and it will send it to IBP, if you provide a pandas Dataframe it will first be converted to json. Uploaders return a requests.Response object\n",
    "\n",
    "#### Basic usage\n",
    "```python\n",
    "from sap_ibp_connector import IBPConnector\n",
    "from sap_ibp_connector import KeyfigureDataUploader\n",
    "\n",
    "# Establish connection using IBPConnector\n",
    "with IBPConnector(username=username, password=password, planning_area=pa, url=url) as connector:\n",
    "    # Instantiate data uploader\n",
    "    uploader = KeyfigureDataUploader(connector)\n",
    "\n",
    "    # uploaders expose functionality to convert pandas dataframe to IBP compatible json\n",
    "    df_json = uploader.df_to_json(df)\n",
    "\n",
    "    # upload the json\n",
    "    response = uploader.upload(df_json)\n",
    "\n",
    "    # if you provide a dataframe, DataUploader will call df_to_json automatically\n",
    "    response = uploader.upload(df)\n",
    "```"
   ]
  },
  {
   "cell_type": "markdown",
   "metadata": {},
   "source": [
    "### Constructing queries\n",
    "For downloading data, one can pass queries to DataDownloaders to select, filter & sort the requested data. Query strings as documented by the SAP API can directly be provided. This package also provides helpers for constructing queries.\n",
    "\n",
    "Supported queries are:\n",
    "- filter\n",
    "- AND\n",
    "- OR\n",
    "- select\n",
    "- top\n",
    "- skip\n",
    "- order_by"
   ]
  },
  {
   "cell_type": "markdown",
   "metadata": {},
   "source": [
    "#### Basic usage\n",
    "\n",
    "```python\n",
    "from sap_ibp_connector.query import Query, select, filter\n",
    "from sap_ibp_connector import KeyfigureDataDownloader, IBPConnector\n",
    "\n",
    "# construct a query\n",
    "query = Query(\n",
    "    select(\"col1\", \"col2\", \"col3\"),\n",
    "    filter.ge(\"col1\", 5)\n",
    ")\n",
    "\n",
    "# Query objects can directly be provided to DataDownloader objects\n",
    "with IBPConnector(username=username, password=password, planning_area=pa, url=url) as connector:\n",
    "    # Instantiate data downloader\n",
    "    downloader = KeyfigureDataDownloader(connector)\n",
    "\n",
    "    df, response = downloader.download(query=query)\n",
    "```\n",
    "\n",
    "You can combine queries by constructing a new Query object:\n",
    "\n",
    "```python\n",
    "query = Query(select_query, filter_query)\n",
    "\n",
    "# with a custom query\n",
    "query = Query(select_query, 'my_custom_query')\n",
    "```\n",
    "\n",
    "Or by using the \"+\" operator:\n",
    "\n",
    "```python\n",
    "query = select_query + filter_query\n",
    "\n",
    "# with a custom query\n",
    "query = select_query + 'my_custom_query'\n",
    "```\n",
    "\n",
    "Use AND/OR to combine filter queries:\n",
    "\n",
    "```python\n",
    "from sap_ibp_connector.query import filter, AND\n",
    "\n",
    "query = AND(filter.eq(\"col1\", \"value\"), filter.eq(\"col2\", \"other_value\"))\n",
    "```\n",
    "\n",
    "Queries can be nested:\n",
    "\n",
    "```python\n",
    "from sap_ibp_connector.query import filter, AND, order_by, select\n",
    "\n",
    "query = Query(\n",
    "    select(\"col1\", \"col2\", \"col3\"),\n",
    "    Query(\n",
    "            AND(filter.eq(\"col1\", \"value\"), filter.eq(\"col2\", \"other_value\")),\n",
    "            order_by(col3='asc')\n",
    "        )\n",
    "    )\n",
    "```\n",
    "\n",
    "The query module also provides some helpers for constructing datetime queries:\n",
    "- py_datetime_to_query_date\n",
    "- string_to_query_date"
   ]
  },
  {
   "cell_type": "markdown",
   "metadata": {},
   "source": [
    "### Link to SAP IBP documentation around OData integration services\n",
    "\n",
    "https://help.sap.com/docs/SAP_INTEGRATED_BUSINESS_PLANNING/da797ae2bf6246d58abd417f24915d55/62f7075855409344e10000000a4450e5.html?locale=en-US"
   ]
  },
  {
   "cell_type": "markdown",
   "metadata": {},
   "source": [
    "## Import required packages"
   ]
  },
  {
   "cell_type": "code",
   "execution_count": 1,
   "metadata": {},
   "outputs": [
    {
     "ename": "ModuleNotFoundError",
     "evalue": "No module named 'dataiku'",
     "output_type": "error",
     "traceback": [
      "\u001b[1;31m---------------------------------------------------------------------------\u001b[0m",
      "\u001b[1;31mModuleNotFoundError\u001b[0m                       Traceback (most recent call last)",
      "\u001b[1;32m<ipython-input-1-a1439cc12ef8>\u001b[0m in \u001b[0;36m<module>\u001b[1;34m\u001b[0m\n\u001b[1;32m----> 1\u001b[1;33m \u001b[1;32mimport\u001b[0m \u001b[0mdataiku\u001b[0m\u001b[1;33m\u001b[0m\u001b[1;33m\u001b[0m\u001b[0m\n\u001b[0m\u001b[0;32m      2\u001b[0m \u001b[1;32mfrom\u001b[0m \u001b[0mdataiku\u001b[0m \u001b[1;32mimport\u001b[0m \u001b[0mpandasutils\u001b[0m \u001b[1;32mas\u001b[0m \u001b[0mpdu\u001b[0m\u001b[1;33m\u001b[0m\u001b[1;33m\u001b[0m\u001b[0m\n\u001b[0;32m      3\u001b[0m \u001b[1;32mimport\u001b[0m \u001b[0mpandas\u001b[0m \u001b[1;32mas\u001b[0m \u001b[0mpd\u001b[0m\u001b[1;33m\u001b[0m\u001b[1;33m\u001b[0m\u001b[0m\n\u001b[0;32m      4\u001b[0m \u001b[1;32mimport\u001b[0m \u001b[0mnumpy\u001b[0m \u001b[1;32mas\u001b[0m \u001b[0mnp\u001b[0m\u001b[1;33m\u001b[0m\u001b[1;33m\u001b[0m\u001b[0m\n\u001b[0;32m      5\u001b[0m \u001b[1;33m\u001b[0m\u001b[0m\n",
      "\u001b[1;31mModuleNotFoundError\u001b[0m: No module named 'dataiku'"
     ]
    }
   ],
   "source": [
    "import dataiku\n",
    "from dataiku import pandasutils as pdu\n",
    "import pandas as pd\n",
    "import numpy as np\n",
    "\n",
    "# import core functionality of the sap ibp connector\n",
    "from sap_ibp_connector import KeyfigureDataDownloader, MasterdataDownloader, KeyfigureDataUploader, IBPConnector\n",
    "\n",
    "# import helpers to construct your query\n",
    "from sap_ibp_connector.query import (\n",
    "    Query,\n",
    "    filter,\n",
    "    select,\n",
    "    skip,\n",
    "    top,\n",
    "    order_by,\n",
    "    AND,\n",
    "    OR,\n",
    "    OrderDirections,\n",
    "    string_to_query_date,\n",
    "    py_datetime_to_query_date,\n",
    ")# importing required packages\n",
    "import dataiku\n",
    "from dataiku import pandasutils as pdu\n",
    "import pandas as pd\n",
    "import numpy as np\n",
    "\n",
    "# import core functionality of the sap ibp connector\n",
    "from sap_ibp_connector import KeyfigureDataDownloader, MasterdataDownloader, KeyfigureDataUploader, IBPConnector\n",
    "\n",
    "# import helpers to construct your query\n",
    "from sap_ibp_connector.query import (\n",
    "    Query,\n",
    "    filter,\n",
    "    select,\n",
    "    skip,\n",
    "    top,\n",
    "    order_by,\n",
    "    AND,\n",
    "    OR,\n",
    "    OrderDirections,\n",
    "    string_to_query_date,\n",
    "    py_datetime_to_query_date,\n",
    ")"
   ]
  },
  {
   "cell_type": "markdown",
   "metadata": {},
   "source": [
    "## Example of reading key-figure data"
   ]
  },
  {
   "cell_type": "code",
   "execution_count": null,
   "metadata": {},
   "outputs": [],
   "source": [
    "# CREDENTIALS\n",
    "IBP_USERNAME_MD_KF = ...\n",
    "IBP_PASSWORD_MD_KF = ...\n",
    "IBP_URL_KF = ...\n",
    "IBP_PLANNING_AREA = \"ZAPPLESI3\""
   ]
  },
  {
   "cell_type": "code",
   "execution_count": null,
   "metadata": {},
   "outputs": [],
   "source": [
    "# You can always call the help function which will provide information regarding the passed object\n",
    "help(KeyfigureDataDownloader)"
   ]
  },
  {
   "cell_type": "code",
   "execution_count": null,
   "metadata": {},
   "outputs": [],
   "source": [
    "# Set up connection using IBPConnector\n",
    "with IBPConnector(\n",
    "    username=IBP_USERNAME_MD_KF,\n",
    "    password=IBP_PASSWORD_MD_KF,\n",
    "    planning_area=IBP_PLANNING_AREA,\n",
    "    url=IBP_URL_KF,\n",
    ") as connector:\n",
    "\n",
    "    # Instantiate data downloader\n",
    "    downloader = KeyfigureDataDownloader(connector)\n",
    "\n",
    "    # Create a query\n",
    "    select_query = select(\"PRDID\", \"PRDDESCR\", \"LOCREGION\", \"CUSTBUFFER2\", \"LOCID\", \"LOCDESCR\", \"PRDGROUP\", \"PRDGROUPID\", \"BRAND\", \"BRANDID\", \"DOSAGEFORM\", \"DOSAGEFORMID\", \"DOSAGE\", \"DOSAGEID\", \"PACKAGINGTYPE\", \"PACKAGINGTYPEID\", \"SUPPLYCHAINCAT\", \"LOCBUFFER3\", \"PERIODID3_TSTAMP\", \"CONSENSUSDEMANDQTYLM\", \"CONSENSUSDEMANDQTY\", \"ACTUALSQTY\", \"FINALSTATFCSTQTY\", \"CDPQ0MLAG\", \"CDPQ1MLAG\", \"CDPQ2MLAG\", \"CDPQ3MLAG\", \"CDPQ4MLAG\", \"CDPQ5MLAG\", \"FREEOFCHARGESALES\", \"SUMACTFOC\", \"STATISTICALFORECASTQTY3MLAG\", \"ZFINALSTATFCSTQTY\")\n",
    "\n",
    "    filter_query = AND(\n",
    "        filter.eq(\"UOMTOID\", \"PC\"),\n",
    "        filter.ge(\"PERIODID3_TSTAMP\", string_to_query_date(\"2020-09-01\", \"%Y-%m-%d\")),\n",
    "        filter.le(\"PERIODID3_TSTAMP\", string_to_query_date(\"2022-08-01\", \"%Y-%m-%d\")),\n",
    "    )\n",
    "\n",
    "    query = Query(select_query, filter_query)\n",
    "    query = select_query + filter_query\n",
    "\n",
    "    # Download data\n",
    "    df, response = downloader.download_in_chunks(query=query)"
   ]
  },
  {
   "cell_type": "code",
   "execution_count": null,
   "metadata": {},
   "outputs": [],
   "source": [
    "df.tail()"
   ]
  },
  {
   "cell_type": "markdown",
   "metadata": {},
   "source": [
    "## Example of reading master data"
   ]
  },
  {
   "cell_type": "code",
   "execution_count": null,
   "metadata": {},
   "outputs": [],
   "source": [
    "# CREDENTIALS PROD\n",
    "IBP_USERNAME_MD_KF = ...\n",
    "IBP_PASSWORD_MD_KF = ...\n",
    "IBP_URL_KF = ...\n",
    "IBP_PLANNING_AREA = \"ZAPPLESI3\""
   ]
  },
  {
   "cell_type": "code",
   "execution_count": null,
   "metadata": {},
   "outputs": [],
   "source": [
    "# Define the master data table you wish to read\n",
    "masterdata_table = 'ZACLOCATIONPRODUCT'"
   ]
  },
  {
   "cell_type": "code",
   "execution_count": null,
   "metadata": {},
   "outputs": [],
   "source": [
    "help(MasterdataDownloader)"
   ]
  },
  {
   "cell_type": "code",
   "execution_count": null,
   "metadata": {},
   "outputs": [],
   "source": [
    "with IBPConnector(\n",
    "    username=IBP_USERNAME_MD_KF,\n",
    "    password=IBP_PASSWORD_MD_KF,\n",
    "    planning_area=IBP_PLANNING_AREA,\n",
    "    url=IBP_URL_KF,\n",
    ") as ibp_connector:\n",
    "\n",
    "    md_downloader = MasterdataDownloader(ibp_connector, masterdata_table=masterdata_table)\n",
    "    df, response_results = md_downloader.download_in_chunks(chunk_size=1000)"
   ]
  },
  {
   "cell_type": "markdown",
   "metadata": {},
   "source": [
    "## Example of writing key-figure data"
   ]
  },
  {
   "cell_type": "code",
   "execution_count": null,
   "metadata": {},
   "outputs": [],
   "source": [
    "# Using DEV credentials for testing here\n",
    "\n",
    "# CREDENTIALS DEV\n",
    "IBP_USERNAME_MD_KF = ...\n",
    "IBP_PASSWORD_MD_KF = ...\n",
    "IBP_URL_KF = ...\n",
    "IBP_PLANNING_AREA = \"ZAPPLESI3\""
   ]
  },
  {
   "cell_type": "code",
   "execution_count": null,
   "metadata": {},
   "outputs": [],
   "source": [
    "upload_df = pd.DataFrame(\n",
    "    [\n",
    "        [\"114265\", \"AT50\", \"2022-09-01T00:00\", \"429.0\"],\n",
    "        [\"114265\", \"AT50\", \"2022-10-01T00:00\", \"1129.0\"],\n",
    "    ],\n",
    "    columns=[\"PRDID\", \"LOCID\", \"PERIODID3_TSTAMP\", \"ZAIAFCSTLOADPRODLOC\"],\n",
    ")"
   ]
  },
  {
   "cell_type": "code",
   "execution_count": null,
   "metadata": {},
   "outputs": [],
   "source": [
    "upload_df.head()"
   ]
  },
  {
   "cell_type": "code",
   "execution_count": null,
   "metadata": {},
   "outputs": [],
   "source": [
    "with IBPConnector(\n",
    "    username=IBP_USERNAME_MD_KF,\n",
    "    password=IBP_PASSWORD_MD_KF,\n",
    "    planning_area=IBP_PLANNING_AREA,\n",
    "    url=IBP_URL_KF,\n",
    ") as ibp_connector:\n",
    "\n",
    "    kf_uploader = KeyfigureDataUploader(ibp_connector)\n",
    "    res = kf_uploader.upload(upload_df)"
   ]
  },
  {
   "cell_type": "code",
   "execution_count": null,
   "metadata": {},
   "outputs": [],
   "source": [
    "res"
   ]
  }
 ],
 "metadata": {
  "associatedRecipe": "compute_dummy_out_1",
  "createdOn": 1662621504388,
  "creationTag": {
   "lastModifiedBy": {
    "login": "rijkvandermeulen"
   },
   "lastModifiedOn": 1662621504388,
   "versionNumber": 0
  },
  "creator": "rijkvandermeulen",
  "customFields": {},
  "dkuGit": {
   "lastInteraction": 0
  },
  "hide_input": false,
  "kernelspec": {
   "display_name": "Python 3",
   "language": "python",
   "name": "python3"
  },
  "language_info": {
   "codemirror_mode": {
    "name": "ipython",
    "version": 3
   },
   "file_extension": ".py",
   "mimetype": "text/x-python",
   "name": "python",
   "nbconvert_exporter": "python",
   "pygments_lexer": "ipython3",
   "version": "3.8.5"
  },
  "modifiedBy": "rijkvandermeulen",
  "tags": [
   "recipe-editor"
  ]
 },
 "nbformat": 4,
 "nbformat_minor": 4
}
