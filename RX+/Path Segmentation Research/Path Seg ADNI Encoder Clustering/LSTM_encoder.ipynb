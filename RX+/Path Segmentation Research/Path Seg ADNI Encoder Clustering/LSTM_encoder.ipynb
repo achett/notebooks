{
 "cells": [
  {
   "cell_type": "code",
   "execution_count": 1,
   "id": "a63ea9cd",
   "metadata": {},
   "outputs": [],
   "source": [
    "# lstm autoencoder recreate sequence\n",
    "import numpy as np\n",
    "from tensorflow.keras.models import Sequential\n",
    "from tensorflow.keras.layers import LSTM\n",
    "from tensorflow.keras.layers import Dense\n",
    "from tensorflow.keras.layers import RepeatVector\n",
    "from tensorflow.keras.layers import TimeDistributed\n",
    "from tensorflow.keras.models import Model\n",
    "from tensorflow.keras.utils import plot_model\n",
    "import pandas as pd\n",
    "import matplotlib.pyplot as plt\n",
    "import os \n",
    "os.chdir(r'C:\\Users\\majichkar\\OneDrive - Infocepts Technologies Pvt. Ltd\\Desktop\\Path Seg ADNI Encoder Clustering')"
   ]
  },
  {
   "cell_type": "code",
   "execution_count": 2,
   "id": "0bf4a5e6",
   "metadata": {},
   "outputs": [],
   "source": [
    "from data_loader import import_data"
   ]
  },
  {
   "cell_type": "code",
   "execution_count": 3,
   "id": "dc64099a",
   "metadata": {},
   "outputs": [],
   "source": [
    "data_name = 'sample'\n",
    "data_x, data_y, y_type = import_data(data_name = data_name)"
   ]
  },
  {
   "cell_type": "code",
   "execution_count": 4,
   "id": "59ded51c",
   "metadata": {},
   "outputs": [
    {
     "data": {
      "text/plain": [
       "((1346, 23, 3), (1346, 23, 35))"
      ]
     },
     "execution_count": 4,
     "metadata": {},
     "output_type": "execute_result"
    }
   ],
   "source": [
    "data_y.shape,data_x.shape"
   ]
  },
  {
   "cell_type": "code",
   "execution_count": 5,
   "id": "8b8c52c2",
   "metadata": {},
   "outputs": [],
   "source": [
    "features = 35\n",
    "t_series = 23\n",
    "patients = data_x.shape[0]"
   ]
  },
  {
   "cell_type": "code",
   "execution_count": 6,
   "id": "fb1b1fdb",
   "metadata": {},
   "outputs": [],
   "source": [
    "sequence = np.array(data_x).reshape((patients, t_series, features))"
   ]
  },
  {
   "cell_type": "code",
   "execution_count": 140,
   "id": "a81ce83c",
   "metadata": {},
   "outputs": [
    {
     "name": "stdout",
     "output_type": "stream",
     "text": [
      "Model: \"sequential_2\"\n",
      "_________________________________________________________________\n",
      "Layer (type)                 Output Shape              Param #   \n",
      "=================================================================\n",
      "Encoder_1 (LSTM)             (None, 200)               188800    \n",
      "_________________________________________________________________\n",
      "Repeater_bridge (RepeatVecto (None, 23, 200)           0         \n",
      "_________________________________________________________________\n",
      "Decoder_1 (LSTM)             (None, 23, 200)           320800    \n",
      "_________________________________________________________________\n",
      "Time_Distributed (TimeDistri (None, 23, 35)            7035      \n",
      "=================================================================\n",
      "Total params: 516,635\n",
      "Trainable params: 516,635\n",
      "Non-trainable params: 0\n",
      "_________________________________________________________________\n",
      "None\n"
     ]
    }
   ],
   "source": [
    "# define model\n",
    "model = Sequential()\n",
    "model.add(LSTM(200, activation='relu', input_shape=(t_series, features),return_sequences=False, name = 'Encoder_1'))\n",
    "#model.add(LSTM(50, activation='relu', return_sequences=False))\n",
    "model.add(RepeatVector(t_series, name = 'Repeater_bridge'))\n",
    "#model.add(LSTM(50, activation='relu', return_sequences=True))\n",
    "model.add(LSTM(200, activation='relu', return_sequences=True, name = 'Decoder_1'))\n",
    "model.add(TimeDistributed(Dense(features),name = 'Time_Distributed'))\n",
    "model.compile(optimizer='adam', loss='mse')\n",
    "model.build()\n",
    "print(model.summary())"
   ]
  },
  {
   "cell_type": "code",
   "execution_count": 142,
   "id": "b2c123c9",
   "metadata": {
    "scrolled": true
   },
   "outputs": [
    {
     "name": "stdout",
     "output_type": "stream",
     "text": [
      "Epoch 1/50\n",
      "43/43 [==============================] - 3s 65ms/step - loss: 0.2483\n",
      "Epoch 2/50\n",
      "43/43 [==============================] - 3s 60ms/step - loss: 0.2460\n",
      "Epoch 3/50\n",
      "43/43 [==============================] - 3s 63ms/step - loss: 0.2452\n",
      "Epoch 4/50\n",
      "43/43 [==============================] - 2s 57ms/step - loss: 0.4457\n",
      "Epoch 5/50\n",
      "43/43 [==============================] - 3s 59ms/step - loss: 0.3682\n",
      "Epoch 6/50\n",
      "43/43 [==============================] - 3s 60ms/step - loss: 0.3241\n",
      "Epoch 7/50\n",
      "43/43 [==============================] - 3s 61ms/step - loss: 1.9171\n",
      "Epoch 8/50\n",
      "43/43 [==============================] - 3s 59ms/step - loss: 1.0962\n",
      "Epoch 9/50\n",
      "43/43 [==============================] - 2s 56ms/step - loss: 3.8796\n",
      "Epoch 10/50\n",
      "43/43 [==============================] - 4s 93ms/step - loss: 18.8766\n",
      "Epoch 11/50\n",
      "43/43 [==============================] - 3s 75ms/step - loss: 4.0147\n",
      "Epoch 12/50\n",
      "43/43 [==============================] - 3s 64ms/step - loss: 3.4109\n",
      "Epoch 13/50\n",
      "43/43 [==============================] - 4s 85ms/step - loss: 3.2432\n",
      "Epoch 14/50\n",
      "43/43 [==============================] - 4s 87ms/step - loss: 1.9813\n",
      "Epoch 15/50\n",
      "43/43 [==============================] - 3s 69ms/step - loss: 2.4182\n",
      "Epoch 16/50\n",
      "43/43 [==============================] - 3s 65ms/step - loss: 3.0853: 0s - loss\n",
      "Epoch 17/50\n",
      "43/43 [==============================] - 3s 62ms/step - loss: 1.7664\n",
      "Epoch 18/50\n",
      "43/43 [==============================] - 3s 63ms/step - loss: 0.6164: 0s - loss: \n",
      "Epoch 19/50\n",
      "43/43 [==============================] - 3s 66ms/step - loss: 0.5129\n",
      "Epoch 20/50\n",
      "43/43 [==============================] - 3s 60ms/step - loss: 0.4600\n",
      "Epoch 21/50\n",
      "43/43 [==============================] - 2s 55ms/step - loss: 0.4320\n",
      "Epoch 22/50\n",
      "43/43 [==============================] - 2s 54ms/step - loss: 0.4322\n",
      "Epoch 23/50\n",
      "43/43 [==============================] - 2s 54ms/step - loss: 0.4119\n",
      "Epoch 24/50\n",
      "43/43 [==============================] - 2s 53ms/step - loss: 0.4017\n",
      "Epoch 25/50\n",
      "43/43 [==============================] - 2s 54ms/step - loss: 0.3610\n",
      "Epoch 26/50\n",
      "43/43 [==============================] - 2s 54ms/step - loss: 9.3882\n",
      "Epoch 27/50\n",
      "43/43 [==============================] - 2s 55ms/step - loss: 2.3651\n",
      "Epoch 28/50\n",
      "43/43 [==============================] - 2s 54ms/step - loss: 8.9855\n",
      "Epoch 29/50\n",
      "43/43 [==============================] - 2s 54ms/step - loss: 2700.7449\n",
      "Epoch 30/50\n",
      "43/43 [==============================] - 2s 55ms/step - loss: 1627.4911\n",
      "Epoch 31/50\n",
      "43/43 [==============================] - 2s 55ms/step - loss: 874.4712\n",
      "Epoch 32/50\n",
      "43/43 [==============================] - 2s 54ms/step - loss: 245.6795\n",
      "Epoch 33/50\n",
      "43/43 [==============================] - 2s 55ms/step - loss: 87.7452\n",
      "Epoch 34/50\n",
      "43/43 [==============================] - 2s 55ms/step - loss: 66.5174\n",
      "Epoch 35/50\n",
      "43/43 [==============================] - 2s 55ms/step - loss: 49.5645\n",
      "Epoch 36/50\n",
      "43/43 [==============================] - 2s 56ms/step - loss: 50.3747\n",
      "Epoch 37/50\n",
      "43/43 [==============================] - 2s 56ms/step - loss: 38.8236\n",
      "Epoch 38/50\n",
      "43/43 [==============================] - 2s 54ms/step - loss: 30.5410\n",
      "Epoch 39/50\n",
      "43/43 [==============================] - 2s 54ms/step - loss: 30.6624\n",
      "Epoch 40/50\n",
      "43/43 [==============================] - 2s 54ms/step - loss: 37.4007\n",
      "Epoch 41/50\n",
      "43/43 [==============================] - 2s 55ms/step - loss: 167.2257\n",
      "Epoch 42/50\n",
      "43/43 [==============================] - 2s 54ms/step - loss: 47.7156\n",
      "Epoch 43/50\n",
      "43/43 [==============================] - 2s 56ms/step - loss: 20.7266\n",
      "Epoch 44/50\n",
      "43/43 [==============================] - 2s 57ms/step - loss: 17.8354\n",
      "Epoch 45/50\n",
      "43/43 [==============================] - 2s 56ms/step - loss: 33.1426\n",
      "Epoch 46/50\n",
      "43/43 [==============================] - 2s 55ms/step - loss: 24.8289\n",
      "Epoch 47/50\n",
      "43/43 [==============================] - 2s 54ms/step - loss: 16.4152\n",
      "Epoch 48/50\n",
      "43/43 [==============================] - 2s 54ms/step - loss: 11.3672\n",
      "Epoch 49/50\n",
      "43/43 [==============================] - 2s 54ms/step - loss: 9.3235\n",
      "Epoch 50/50\n",
      "43/43 [==============================] - 2s 54ms/step - loss: 8.5864\n"
     ]
    }
   ],
   "source": [
    "# fit model\n",
    "history = model.fit(sequence, sequence, epochs=50)"
   ]
  },
  {
   "cell_type": "code",
   "execution_count": 143,
   "id": "9c8dff18",
   "metadata": {},
   "outputs": [
    {
     "data": {
      "image/png": "[encoded data removed]",
      "text/plain": [
       "<Figure size 640x480 with 1 Axes>"
      ]
     },
     "metadata": {},
     "output_type": "display_data"
    }
   ],
   "source": [
    "plt.plot(history.history['loss'])\n",
    "plt.title('Training Loss')\n",
    "plt.ylabel('loss')\n",
    "plt.xlabel('epoch')\n",
    "#plt.legend(['train', 'val'], loc='upper left')\n",
    "plt.show()"
   ]
  },
  {
   "cell_type": "code",
   "execution_count": 144,
   "id": "ce488acc",
   "metadata": {},
   "outputs": [
    {
     "name": "stdout",
     "output_type": "stream",
     "text": [
      "[-0.8205568  -3.5074987   1.5128691   2.869895    5.419638   -4.256639\n",
      "  1.4587532  -5.4913864  -2.1235335   4.627337    3.061267   -1.9038972\n",
      "  1.1393211  -1.4377792   0.48425376  6.2105308  -3.8446589   2.8058789\n",
      "  3.6536343  -2.2058432   1.287914   -2.6107702   4.631878   -4.2458987\n",
      "  3.5417159   2.2539327  -2.1772103  -2.476132    5.1007032  -1.4359839\n",
      "  1.4404842  -4.3229294  -5.341699    4.8068533  -1.0057466 ]\n"
     ]
    }
   ],
   "source": [
    "# demonstrate recreation\n",
    "yhat = model.predict(sequence)\n",
    "print(yhat[0,0,:])"
   ]
  },
  {
   "cell_type": "code",
   "execution_count": 145,
   "id": "b07b4ce7",
   "metadata": {},
   "outputs": [
    {
     "data": {
      "text/plain": [
       "array([ 0.5       ,  0.09977272, -0.04877722, -0.72950245, -0.72783337,\n",
       "        0.0646074 ,  0.36604982,  0.44940294, -0.23589747,  0.6010358 ,\n",
       "        0.67764268,  0.07600899,  2.78369635,  1.92864383,  3.37061928,\n",
       "        1.29990373, -0.35800848,  2.91987595,  0.81868748, -1.78506959,\n",
       "       -0.31503332,  0.58292771, -0.18100734, -0.0719102 , -0.38049727,\n",
       "       -0.04347266, -0.13275914, -0.20194485, -0.02070966, -0.09346397,\n",
       "       -0.03706406,  0.27192107, -0.17143803,  0.18451442, -0.06627223])"
      ]
     },
     "execution_count": 145,
     "metadata": {},
     "output_type": "execute_result"
    }
   ],
   "source": [
    "sequence[0,0,:]"
   ]
  },
  {
   "cell_type": "code",
   "execution_count": 146,
   "id": "ddb83b00",
   "metadata": {},
   "outputs": [],
   "source": [
    "encoder_layer = Model(inputs=model.inputs, outputs=model.layers[0].output)\n",
    "encoded_features = np.array(encoder_layer.predict(sequence))"
   ]
  },
  {
   "cell_type": "code",
   "execution_count": 147,
   "id": "87083ca5",
   "metadata": {},
   "outputs": [
    {
     "data": {
      "text/plain": [
       "(1346, 200)"
      ]
     },
     "execution_count": 147,
     "metadata": {},
     "output_type": "execute_result"
    }
   ],
   "source": [
    "encoded_features.shape"
   ]
  },
  {
   "cell_type": "code",
   "execution_count": 148,
   "id": "a9674019",
   "metadata": {},
   "outputs": [
    {
     "data": {
      "text/html": [
       "<div>\n",
       "<style scoped>\n",
       "    .dataframe tbody tr th:only-of-type {\n",
       "        vertical-align: middle;\n",
       "    }\n",
       "\n",
       "    .dataframe tbody tr th {\n",
       "        vertical-align: top;\n",
       "    }\n",
       "\n",
       "    .dataframe thead th {\n",
       "        text-align: right;\n",
       "    }\n",
       "</style>\n",
       "<table border=\"1\" class=\"dataframe\">\n",
       "  <thead>\n",
       "    <tr style=\"text-align: right;\">\n",
       "      <th></th>\n",
       "      <th>0</th>\n",
       "      <th>1</th>\n",
       "      <th>2</th>\n",
       "      <th>3</th>\n",
       "      <th>4</th>\n",
       "      <th>5</th>\n",
       "      <th>6</th>\n",
       "      <th>7</th>\n",
       "      <th>8</th>\n",
       "      <th>9</th>\n",
       "      <th>...</th>\n",
       "      <th>190</th>\n",
       "      <th>191</th>\n",
       "      <th>192</th>\n",
       "      <th>193</th>\n",
       "      <th>194</th>\n",
       "      <th>195</th>\n",
       "      <th>196</th>\n",
       "      <th>197</th>\n",
       "      <th>198</th>\n",
       "      <th>199</th>\n",
       "    </tr>\n",
       "  </thead>\n",
       "  <tbody>\n",
       "    <tr>\n",
       "      <th>0</th>\n",
       "      <td>0.189823</td>\n",
       "      <td>0.000000</td>\n",
       "      <td>0.000000e+00</td>\n",
       "      <td>0.000000e+00</td>\n",
       "      <td>0.000000e+00</td>\n",
       "      <td>0.000000e+00</td>\n",
       "      <td>0.000000e+00</td>\n",
       "      <td>0.000000e+00</td>\n",
       "      <td>0.0</td>\n",
       "      <td>1.930284e+02</td>\n",
       "      <td>...</td>\n",
       "      <td>0.000000e+00</td>\n",
       "      <td>0.000000e+00</td>\n",
       "      <td>0.0</td>\n",
       "      <td>107.882019</td>\n",
       "      <td>0.000000e+00</td>\n",
       "      <td>0.000000e+00</td>\n",
       "      <td>0.000000e+00</td>\n",
       "      <td>0.0</td>\n",
       "      <td>0.000000e+00</td>\n",
       "      <td>0.000000e+00</td>\n",
       "    </tr>\n",
       "    <tr>\n",
       "      <th>1</th>\n",
       "      <td>0.001480</td>\n",
       "      <td>0.000000</td>\n",
       "      <td>0.000000e+00</td>\n",
       "      <td>4.727074e-23</td>\n",
       "      <td>1.855723e-02</td>\n",
       "      <td>0.000000e+00</td>\n",
       "      <td>0.000000e+00</td>\n",
       "      <td>0.000000e+00</td>\n",
       "      <td>0.0</td>\n",
       "      <td>6.336240e+00</td>\n",
       "      <td>...</td>\n",
       "      <td>2.791600e-18</td>\n",
       "      <td>3.509013e-13</td>\n",
       "      <td>0.0</td>\n",
       "      <td>0.413132</td>\n",
       "      <td>1.177105e-25</td>\n",
       "      <td>0.000000e+00</td>\n",
       "      <td>2.089508e-08</td>\n",
       "      <td>0.0</td>\n",
       "      <td>2.331323e-09</td>\n",
       "      <td>1.624714e-12</td>\n",
       "    </tr>\n",
       "    <tr>\n",
       "      <th>2</th>\n",
       "      <td>0.022856</td>\n",
       "      <td>0.000000</td>\n",
       "      <td>0.000000e+00</td>\n",
       "      <td>0.000000e+00</td>\n",
       "      <td>1.707138e-27</td>\n",
       "      <td>0.000000e+00</td>\n",
       "      <td>0.000000e+00</td>\n",
       "      <td>0.000000e+00</td>\n",
       "      <td>0.0</td>\n",
       "      <td>1.650936e-18</td>\n",
       "      <td>...</td>\n",
       "      <td>0.000000e+00</td>\n",
       "      <td>0.000000e+00</td>\n",
       "      <td>0.0</td>\n",
       "      <td>42.437267</td>\n",
       "      <td>0.000000e+00</td>\n",
       "      <td>0.000000e+00</td>\n",
       "      <td>0.000000e+00</td>\n",
       "      <td>0.0</td>\n",
       "      <td>0.000000e+00</td>\n",
       "      <td>0.000000e+00</td>\n",
       "    </tr>\n",
       "    <tr>\n",
       "      <th>3</th>\n",
       "      <td>0.000020</td>\n",
       "      <td>0.000000</td>\n",
       "      <td>1.305569e-15</td>\n",
       "      <td>0.000000e+00</td>\n",
       "      <td>2.656018e-06</td>\n",
       "      <td>7.034621e-11</td>\n",
       "      <td>1.570750e-18</td>\n",
       "      <td>3.693550e-26</td>\n",
       "      <td>0.0</td>\n",
       "      <td>9.239889e+00</td>\n",
       "      <td>...</td>\n",
       "      <td>4.092198e-11</td>\n",
       "      <td>0.000000e+00</td>\n",
       "      <td>0.0</td>\n",
       "      <td>0.661016</td>\n",
       "      <td>4.547396e-06</td>\n",
       "      <td>5.342741e-12</td>\n",
       "      <td>0.000000e+00</td>\n",
       "      <td>0.0</td>\n",
       "      <td>1.034898e-05</td>\n",
       "      <td>2.631519e-06</td>\n",
       "    </tr>\n",
       "    <tr>\n",
       "      <th>4</th>\n",
       "      <td>0.000000</td>\n",
       "      <td>0.000013</td>\n",
       "      <td>0.000000e+00</td>\n",
       "      <td>4.236706e-01</td>\n",
       "      <td>0.000000e+00</td>\n",
       "      <td>1.767824e-25</td>\n",
       "      <td>0.000000e+00</td>\n",
       "      <td>0.000000e+00</td>\n",
       "      <td>0.0</td>\n",
       "      <td>7.789957e+00</td>\n",
       "      <td>...</td>\n",
       "      <td>5.082527e-13</td>\n",
       "      <td>0.000000e+00</td>\n",
       "      <td>0.0</td>\n",
       "      <td>14.744555</td>\n",
       "      <td>1.869926e-16</td>\n",
       "      <td>1.252487e-24</td>\n",
       "      <td>7.175422e-12</td>\n",
       "      <td>0.0</td>\n",
       "      <td>1.711334e-08</td>\n",
       "      <td>4.293570e-04</td>\n",
       "    </tr>\n",
       "  </tbody>\n",
       "</table>\n",
       "<p>5 rows × 200 columns</p>\n",
       "</div>"
      ],
      "text/plain": [
       "        0         1             2             3             4             5    \\\n",
       "0  0.189823  0.000000  0.000000e+00  0.000000e+00  0.000000e+00  0.000000e+00   \n",
       "1  0.001480  0.000000  0.000000e+00  4.727074e-23  1.855723e-02  0.000000e+00   \n",
       "2  0.022856  0.000000  0.000000e+00  0.000000e+00  1.707138e-27  0.000000e+00   \n",
       "3  0.000020  0.000000  1.305569e-15  0.000000e+00  2.656018e-06  7.034621e-11   \n",
       "4  0.000000  0.000013  0.000000e+00  4.236706e-01  0.000000e+00  1.767824e-25   \n",
       "\n",
       "            6             7    8             9    ...           190  \\\n",
       "0  0.000000e+00  0.000000e+00  0.0  1.930284e+02  ...  0.000000e+00   \n",
       "1  0.000000e+00  0.000000e+00  0.0  6.336240e+00  ...  2.791600e-18   \n",
       "2  0.000000e+00  0.000000e+00  0.0  1.650936e-18  ...  0.000000e+00   \n",
       "3  1.570750e-18  3.693550e-26  0.0  9.239889e+00  ...  4.092198e-11   \n",
       "4  0.000000e+00  0.000000e+00  0.0  7.789957e+00  ...  5.082527e-13   \n",
       "\n",
       "            191  192         193           194           195           196  \\\n",
       "0  0.000000e+00  0.0  107.882019  0.000000e+00  0.000000e+00  0.000000e+00   \n",
       "1  3.509013e-13  0.0    0.413132  1.177105e-25  0.000000e+00  2.089508e-08   \n",
       "2  0.000000e+00  0.0   42.437267  0.000000e+00  0.000000e+00  0.000000e+00   \n",
       "3  0.000000e+00  0.0    0.661016  4.547396e-06  5.342741e-12  0.000000e+00   \n",
       "4  0.000000e+00  0.0   14.744555  1.869926e-16  1.252487e-24  7.175422e-12   \n",
       "\n",
       "   197           198           199  \n",
       "0  0.0  0.000000e+00  0.000000e+00  \n",
       "1  0.0  2.331323e-09  1.624714e-12  \n",
       "2  0.0  0.000000e+00  0.000000e+00  \n",
       "3  0.0  1.034898e-05  2.631519e-06  \n",
       "4  0.0  1.711334e-08  4.293570e-04  \n",
       "\n",
       "[5 rows x 200 columns]"
      ]
     },
     "execution_count": 148,
     "metadata": {},
     "output_type": "execute_result"
    }
   ],
   "source": [
    "df = pd.DataFrame(encoded_features)\n",
    "df.head()"
   ]
  },
  {
   "cell_type": "code",
   "execution_count": 149,
   "id": "e19f1f48",
   "metadata": {},
   "outputs": [
    {
     "data": {
      "image/png": "[encoded data removed]",
      "text/plain": [
       "<Figure size 640x480 with 1 Axes>"
      ]
     },
     "metadata": {},
     "output_type": "display_data"
    }
   ],
   "source": [
    "#Plotting Dendograms\n",
    "import scipy.cluster.hierarchy as shc\n",
    "plt.figure()\n",
    "Dendrogram = shc.dendrogram((shc.linkage(df, method ='ward')))\n",
    "plt.show()"
   ]
  },
  {
   "cell_type": "code",
   "execution_count": 150,
   "id": "ed426813",
   "metadata": {},
   "outputs": [
    {
     "data": {
      "image/png": "[encoded data removed]",
      "text/plain": [
       "<Figure size 640x480 with 1 Axes>"
      ]
     },
     "metadata": {},
     "output_type": "display_data"
    }
   ],
   "source": [
    "import scipy.cluster.hierarchy as shc\n",
    "plt.figure()\n",
    "Dendrogram = shc.dendrogram((shc.linkage(df, method ='average')))\n",
    "plt.show()"
   ]
  },
  {
   "cell_type": "code",
   "execution_count": 151,
   "id": "f9a49fbe",
   "metadata": {},
   "outputs": [],
   "source": [
    "from sklearn.cluster import AgglomerativeClustering\n",
    "from sklearn import metrics"
   ]
  },
  {
   "cell_type": "code",
   "execution_count": 152,
   "id": "80deaf82",
   "metadata": {},
   "outputs": [],
   "source": [
    "clu_model = AgglomerativeClustering(n_clusters = 4,linkage='ward')\n",
    "labels = clu_model.fit_predict(df)"
   ]
  },
  {
   "cell_type": "code",
   "execution_count": 153,
   "id": "aefb6936",
   "metadata": {},
   "outputs": [
    {
     "data": {
      "text/plain": [
       "array([1, 2, 0, ..., 0, 2, 1], dtype=int64)"
      ]
     },
     "execution_count": 153,
     "metadata": {},
     "output_type": "execute_result"
    }
   ],
   "source": [
    "labels"
   ]
  },
  {
   "cell_type": "code",
   "execution_count": 154,
   "id": "baf84499",
   "metadata": {},
   "outputs": [
    {
     "name": "stdout",
     "output_type": "stream",
     "text": [
      "Counter({2: 872, 0: 433, 1: 24, 3: 17})\n"
     ]
    }
   ],
   "source": [
    "import collections\n",
    "print(collections.Counter(labels))"
   ]
  },
  {
   "cell_type": "code",
   "execution_count": 155,
   "id": "49c3688a",
   "metadata": {},
   "outputs": [],
   "source": [
    "mtrcs = ['euclidean', 'l2', 'l1', 'manhattan', 'cityblock']"
   ]
  },
  {
   "cell_type": "code",
   "execution_count": 156,
   "id": "e298a15d",
   "metadata": {},
   "outputs": [
    {
     "name": "stdout",
     "output_type": "stream",
     "text": [
      "euclidean - Silhouette Score: 0.55195373\n",
      "l2 - Silhouette Score: 0.55195373\n",
      "l1 - Silhouette Score: 0.5434041009121802\n",
      "manhattan - Silhouette Score: 0.5434041009121802\n",
      "cityblock - Silhouette Score: 0.5434041009121802\n"
     ]
    }
   ],
   "source": [
    "for i in mtrcs:\n",
    "    print(i,\"- Silhouette Score:\",metrics.silhouette_score(df,labels,metric = i))"
   ]
  },
  {
   "cell_type": "code",
   "execution_count": 157,
   "id": "2888e511",
   "metadata": {},
   "outputs": [
    {
     "data": {
      "text/html": [
       "<div>\n",
       "<style scoped>\n",
       "    .dataframe tbody tr th:only-of-type {\n",
       "        vertical-align: middle;\n",
       "    }\n",
       "\n",
       "    .dataframe tbody tr th {\n",
       "        vertical-align: top;\n",
       "    }\n",
       "\n",
       "    .dataframe thead th {\n",
       "        text-align: right;\n",
       "    }\n",
       "</style>\n",
       "<table border=\"1\" class=\"dataframe\">\n",
       "  <thead>\n",
       "    <tr style=\"text-align: right;\">\n",
       "      <th></th>\n",
       "      <th>0</th>\n",
       "      <th>1</th>\n",
       "      <th>2</th>\n",
       "      <th>3</th>\n",
       "      <th>4</th>\n",
       "      <th>5</th>\n",
       "      <th>6</th>\n",
       "      <th>7</th>\n",
       "      <th>8</th>\n",
       "      <th>9</th>\n",
       "      <th>...</th>\n",
       "      <th>191</th>\n",
       "      <th>192</th>\n",
       "      <th>193</th>\n",
       "      <th>194</th>\n",
       "      <th>195</th>\n",
       "      <th>196</th>\n",
       "      <th>197</th>\n",
       "      <th>198</th>\n",
       "      <th>199</th>\n",
       "      <th>labels</th>\n",
       "    </tr>\n",
       "  </thead>\n",
       "  <tbody>\n",
       "    <tr>\n",
       "      <th>0</th>\n",
       "      <td>0.189823</td>\n",
       "      <td>0.000000</td>\n",
       "      <td>0.000000e+00</td>\n",
       "      <td>0.000000e+00</td>\n",
       "      <td>0.000000e+00</td>\n",
       "      <td>0.000000e+00</td>\n",
       "      <td>0.000000e+00</td>\n",
       "      <td>0.000000e+00</td>\n",
       "      <td>0.0</td>\n",
       "      <td>1.930284e+02</td>\n",
       "      <td>...</td>\n",
       "      <td>0.000000e+00</td>\n",
       "      <td>0.0</td>\n",
       "      <td>107.882019</td>\n",
       "      <td>0.000000e+00</td>\n",
       "      <td>0.000000e+00</td>\n",
       "      <td>0.000000e+00</td>\n",
       "      <td>0.0</td>\n",
       "      <td>0.000000e+00</td>\n",
       "      <td>0.000000e+00</td>\n",
       "      <td>1</td>\n",
       "    </tr>\n",
       "    <tr>\n",
       "      <th>1</th>\n",
       "      <td>0.001480</td>\n",
       "      <td>0.000000</td>\n",
       "      <td>0.000000e+00</td>\n",
       "      <td>4.727074e-23</td>\n",
       "      <td>1.855723e-02</td>\n",
       "      <td>0.000000e+00</td>\n",
       "      <td>0.000000e+00</td>\n",
       "      <td>0.000000e+00</td>\n",
       "      <td>0.0</td>\n",
       "      <td>6.336240e+00</td>\n",
       "      <td>...</td>\n",
       "      <td>3.509013e-13</td>\n",
       "      <td>0.0</td>\n",
       "      <td>0.413132</td>\n",
       "      <td>1.177105e-25</td>\n",
       "      <td>0.000000e+00</td>\n",
       "      <td>2.089508e-08</td>\n",
       "      <td>0.0</td>\n",
       "      <td>2.331323e-09</td>\n",
       "      <td>1.624714e-12</td>\n",
       "      <td>2</td>\n",
       "    </tr>\n",
       "    <tr>\n",
       "      <th>2</th>\n",
       "      <td>0.022856</td>\n",
       "      <td>0.000000</td>\n",
       "      <td>0.000000e+00</td>\n",
       "      <td>0.000000e+00</td>\n",
       "      <td>1.707138e-27</td>\n",
       "      <td>0.000000e+00</td>\n",
       "      <td>0.000000e+00</td>\n",
       "      <td>0.000000e+00</td>\n",
       "      <td>0.0</td>\n",
       "      <td>1.650936e-18</td>\n",
       "      <td>...</td>\n",
       "      <td>0.000000e+00</td>\n",
       "      <td>0.0</td>\n",
       "      <td>42.437267</td>\n",
       "      <td>0.000000e+00</td>\n",
       "      <td>0.000000e+00</td>\n",
       "      <td>0.000000e+00</td>\n",
       "      <td>0.0</td>\n",
       "      <td>0.000000e+00</td>\n",
       "      <td>0.000000e+00</td>\n",
       "      <td>0</td>\n",
       "    </tr>\n",
       "    <tr>\n",
       "      <th>3</th>\n",
       "      <td>0.000020</td>\n",
       "      <td>0.000000</td>\n",
       "      <td>1.305569e-15</td>\n",
       "      <td>0.000000e+00</td>\n",
       "      <td>2.656018e-06</td>\n",
       "      <td>7.034621e-11</td>\n",
       "      <td>1.570750e-18</td>\n",
       "      <td>3.693550e-26</td>\n",
       "      <td>0.0</td>\n",
       "      <td>9.239889e+00</td>\n",
       "      <td>...</td>\n",
       "      <td>0.000000e+00</td>\n",
       "      <td>0.0</td>\n",
       "      <td>0.661016</td>\n",
       "      <td>4.547396e-06</td>\n",
       "      <td>5.342741e-12</td>\n",
       "      <td>0.000000e+00</td>\n",
       "      <td>0.0</td>\n",
       "      <td>1.034898e-05</td>\n",
       "      <td>2.631519e-06</td>\n",
       "      <td>2</td>\n",
       "    </tr>\n",
       "    <tr>\n",
       "      <th>4</th>\n",
       "      <td>0.000000</td>\n",
       "      <td>0.000013</td>\n",
       "      <td>0.000000e+00</td>\n",
       "      <td>4.236706e-01</td>\n",
       "      <td>0.000000e+00</td>\n",
       "      <td>1.767824e-25</td>\n",
       "      <td>0.000000e+00</td>\n",
       "      <td>0.000000e+00</td>\n",
       "      <td>0.0</td>\n",
       "      <td>7.789957e+00</td>\n",
       "      <td>...</td>\n",
       "      <td>0.000000e+00</td>\n",
       "      <td>0.0</td>\n",
       "      <td>14.744555</td>\n",
       "      <td>1.869926e-16</td>\n",
       "      <td>1.252487e-24</td>\n",
       "      <td>7.175422e-12</td>\n",
       "      <td>0.0</td>\n",
       "      <td>1.711334e-08</td>\n",
       "      <td>4.293570e-04</td>\n",
       "      <td>2</td>\n",
       "    </tr>\n",
       "  </tbody>\n",
       "</table>\n",
       "<p>5 rows × 201 columns</p>\n",
       "</div>"
      ],
      "text/plain": [
       "          0         1             2             3             4             5  \\\n",
       "0  0.189823  0.000000  0.000000e+00  0.000000e+00  0.000000e+00  0.000000e+00   \n",
       "1  0.001480  0.000000  0.000000e+00  4.727074e-23  1.855723e-02  0.000000e+00   \n",
       "2  0.022856  0.000000  0.000000e+00  0.000000e+00  1.707138e-27  0.000000e+00   \n",
       "3  0.000020  0.000000  1.305569e-15  0.000000e+00  2.656018e-06  7.034621e-11   \n",
       "4  0.000000  0.000013  0.000000e+00  4.236706e-01  0.000000e+00  1.767824e-25   \n",
       "\n",
       "              6             7    8             9  ...           191  192  \\\n",
       "0  0.000000e+00  0.000000e+00  0.0  1.930284e+02  ...  0.000000e+00  0.0   \n",
       "1  0.000000e+00  0.000000e+00  0.0  6.336240e+00  ...  3.509013e-13  0.0   \n",
       "2  0.000000e+00  0.000000e+00  0.0  1.650936e-18  ...  0.000000e+00  0.0   \n",
       "3  1.570750e-18  3.693550e-26  0.0  9.239889e+00  ...  0.000000e+00  0.0   \n",
       "4  0.000000e+00  0.000000e+00  0.0  7.789957e+00  ...  0.000000e+00  0.0   \n",
       "\n",
       "          193           194           195           196  197           198  \\\n",
       "0  107.882019  0.000000e+00  0.000000e+00  0.000000e+00  0.0  0.000000e+00   \n",
       "1    0.413132  1.177105e-25  0.000000e+00  2.089508e-08  0.0  2.331323e-09   \n",
       "2   42.437267  0.000000e+00  0.000000e+00  0.000000e+00  0.0  0.000000e+00   \n",
       "3    0.661016  4.547396e-06  5.342741e-12  0.000000e+00  0.0  1.034898e-05   \n",
       "4   14.744555  1.869926e-16  1.252487e-24  7.175422e-12  0.0  1.711334e-08   \n",
       "\n",
       "            199  labels  \n",
       "0  0.000000e+00       1  \n",
       "1  1.624714e-12       2  \n",
       "2  0.000000e+00       0  \n",
       "3  2.631519e-06       2  \n",
       "4  4.293570e-04       2  \n",
       "\n",
       "[5 rows x 201 columns]"
      ]
     },
     "execution_count": 157,
     "metadata": {},
     "output_type": "execute_result"
    }
   ],
   "source": [
    "df_labels = df.copy()\n",
    "df_labels['labels']=labels\n",
    "df_labels.head()"
   ]
  },
  {
   "cell_type": "code",
   "execution_count": 158,
   "id": "3e70ca7e",
   "metadata": {},
   "outputs": [],
   "source": [
    "from sklearn.cluster import KMeans"
   ]
  },
  {
   "cell_type": "code",
   "execution_count": 159,
   "id": "bf8b5633",
   "metadata": {},
   "outputs": [
    {
     "data": {
      "image/png": "[encoded data removed]",
      "text/plain": [
       "<Figure size 640x480 with 1 Axes>"
      ]
     },
     "metadata": {},
     "output_type": "display_data"
    }
   ],
   "source": [
    "wcss=[]\n",
    "for i in range(1,15):\n",
    "    kmeans = KMeans(i)\n",
    "    kmeans.fit(df)\n",
    "    wcss_iter = kmeans.inertia_\n",
    "    wcss.append(wcss_iter)\n",
    "\n",
    "number_clusters = range(1,15)\n",
    "plt.plot(number_clusters,wcss)\n",
    "plt.title('The Elbow title')\n",
    "plt.xlabel('Number of clusters')\n",
    "plt.ylabel('WCSS')\n",
    "plt.show()"
   ]
  },
  {
   "cell_type": "code",
   "execution_count": 160,
   "id": "4c3d0579",
   "metadata": {},
   "outputs": [
    {
     "data": {
      "text/plain": [
       "KMeans(n_clusters=7)"
      ]
     },
     "execution_count": 160,
     "metadata": {},
     "output_type": "execute_result"
    }
   ],
   "source": [
    "kmeans = KMeans(7)\n",
    "kmeans.fit(df)"
   ]
  },
  {
   "cell_type": "code",
   "execution_count": 161,
   "id": "d7c11338",
   "metadata": {},
   "outputs": [
    {
     "data": {
      "text/plain": [
       "array([1, 0, 2, ..., 2, 0, 6])"
      ]
     },
     "execution_count": 161,
     "metadata": {},
     "output_type": "execute_result"
    }
   ],
   "source": [
    "labels_k = kmeans.fit_predict(df)\n",
    "labels_k"
   ]
  },
  {
   "cell_type": "code",
   "execution_count": 171,
   "id": "456d46ac",
   "metadata": {},
   "outputs": [
    {
     "name": "stdout",
     "output_type": "stream",
     "text": [
      "{1: 25, 0: 1017, 2: 169, 5: 104, 4: 17, 6: 13, 3: 1}\n"
     ]
    }
   ],
   "source": [
    "import collections\n",
    "print(dict(collections.Counter(labels_k)))"
   ]
  },
  {
   "cell_type": "code",
   "execution_count": 172,
   "id": "be05ef2b",
   "metadata": {},
   "outputs": [
    {
     "name": "stdout",
     "output_type": "stream",
     "text": [
      "euclidean - Silhouette Score: 0.6896261\n",
      "l2 - Silhouette Score: 0.6896261\n",
      "l1 - Silhouette Score: 0.6369324890679867\n",
      "manhattan - Silhouette Score: 0.6369324890679867\n",
      "cityblock - Silhouette Score: 0.6369324890679867\n"
     ]
    }
   ],
   "source": [
    "for i in mtrcs:\n",
    "    print(i,\"- Silhouette Score:\",metrics.silhouette_score(df,labels_k,metric = i))"
   ]
  },
  {
   "cell_type": "code",
   "execution_count": null,
   "id": "a90f87d5",
   "metadata": {},
   "outputs": [],
   "source": []
  }
 ],
 "metadata": {
  "kernelspec": {
   "display_name": "Python 3",
   "language": "python",
   "name": "python3"
  },
  "language_info": {
   "codemirror_mode": {
    "name": "ipython",
    "version": 3
   },
   "file_extension": ".py",
   "mimetype": "text/x-python",
   "name": "python",
   "nbconvert_exporter": "python",
   "pygments_lexer": "ipython3",
   "version": "3.8.5"
  }
 },
 "nbformat": 4,
 "nbformat_minor": 5
}
