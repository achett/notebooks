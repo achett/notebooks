{
 "cells": [
  {
   "cell_type": "code",
   "execution_count": 51,
   "id": "05a61838",
   "metadata": {},
   "outputs": [],
   "source": [
    "# pip install numpy --upgrade"
   ]
  },
  {
   "cell_type": "code",
   "execution_count": 52,
   "id": "a6fefca3",
   "metadata": {},
   "outputs": [],
   "source": [
    "# pip install tensorflow --upgrade"
   ]
  },
  {
   "cell_type": "code",
   "execution_count": 53,
   "id": "2c63a37a",
   "metadata": {},
   "outputs": [],
   "source": [
    "# pip install keras --upgrade"
   ]
  },
  {
   "cell_type": "code",
   "execution_count": 1,
   "id": "a63ea9cd",
   "metadata": {},
   "outputs": [],
   "source": [
    "# lstm autoencoder recreate sequence\n",
    "import numpy as np\n",
    "from tensorflow.keras.models import Sequential\n",
    "from tensorflow.keras.layers import LSTM\n",
    "from tensorflow.keras.layers import Dense\n",
    "from tensorflow.keras.layers import RepeatVector\n",
    "from tensorflow.keras.layers import TimeDistributed\n",
    "from tensorflow.keras.models import Model\n",
    "from tensorflow.keras.utils import plot_model\n",
    "import pandas as pd\n",
    "import matplotlib.pyplot as plt\n",
    "import os "
   ]
  },
  {
   "cell_type": "code",
   "execution_count": 2,
   "id": "c1fc88c0",
   "metadata": {},
   "outputs": [],
   "source": [
    "os.chdir(r'\\\\usvaprdsas01\\rwi\\eas\\sentier\\RX+ data')"
   ]
  },
  {
   "cell_type": "code",
   "execution_count": 53,
   "id": "0bf4a5e6",
   "metadata": {},
   "outputs": [],
   "source": [
    "df = pd.read_csv('post_meno_patients_research.csv')\n",
    "df.drop('Unnamed: 0',axis = 1,inplace=True)"
   ]
  },
  {
   "cell_type": "code",
   "execution_count": 54,
   "id": "dc64099a",
   "metadata": {},
   "outputs": [
    {
     "data": {
      "text/html": [
       "<div>\n",
       "<style scoped>\n",
       "    .dataframe tbody tr th:only-of-type {\n",
       "        vertical-align: middle;\n",
       "    }\n",
       "\n",
       "    .dataframe tbody tr th {\n",
       "        vertical-align: top;\n",
       "    }\n",
       "\n",
       "    .dataframe thead th {\n",
       "        text-align: right;\n",
       "    }\n",
       "</style>\n",
       "<table border=\"1\" class=\"dataframe\">\n",
       "  <thead>\n",
       "    <tr style=\"text-align: right;\">\n",
       "      <th></th>\n",
       "      <th>patient_id</th>\n",
       "      <th>age</th>\n",
       "      <th>alcohol_consumption</th>\n",
       "      <th>amenorrhea</th>\n",
       "      <th>bc_implant</th>\n",
       "      <th>bc_injection</th>\n",
       "      <th>bc_oral</th>\n",
       "      <th>bc_other</th>\n",
       "      <th>bi_oophorectomy</th>\n",
       "      <th>birth_control</th>\n",
       "      <th>...</th>\n",
       "      <th>oab_incontinence</th>\n",
       "      <th>post_meno</th>\n",
       "      <th>sleep_disturbance</th>\n",
       "      <th>smoker</th>\n",
       "      <th>stress_incontinence</th>\n",
       "      <th>uni_oophorectomy</th>\n",
       "      <th>urge_incontinence</th>\n",
       "      <th>uti</th>\n",
       "      <th>vaginal_dryness</th>\n",
       "      <th>weight_gain</th>\n",
       "    </tr>\n",
       "  </thead>\n",
       "  <tbody>\n",
       "    <tr>\n",
       "      <th>0</th>\n",
       "      <td>615498</td>\n",
       "      <td>57</td>\n",
       "      <td>0</td>\n",
       "      <td>0</td>\n",
       "      <td>0</td>\n",
       "      <td>0</td>\n",
       "      <td>0</td>\n",
       "      <td>0</td>\n",
       "      <td>0</td>\n",
       "      <td>0</td>\n",
       "      <td>...</td>\n",
       "      <td>0</td>\n",
       "      <td>1</td>\n",
       "      <td>0</td>\n",
       "      <td>0</td>\n",
       "      <td>0</td>\n",
       "      <td>0</td>\n",
       "      <td>0</td>\n",
       "      <td>0</td>\n",
       "      <td>0</td>\n",
       "      <td>0</td>\n",
       "    </tr>\n",
       "    <tr>\n",
       "      <th>1</th>\n",
       "      <td>615498</td>\n",
       "      <td>57</td>\n",
       "      <td>0</td>\n",
       "      <td>0</td>\n",
       "      <td>0</td>\n",
       "      <td>0</td>\n",
       "      <td>0</td>\n",
       "      <td>0</td>\n",
       "      <td>0</td>\n",
       "      <td>0</td>\n",
       "      <td>...</td>\n",
       "      <td>0</td>\n",
       "      <td>1</td>\n",
       "      <td>0</td>\n",
       "      <td>0</td>\n",
       "      <td>0</td>\n",
       "      <td>0</td>\n",
       "      <td>0</td>\n",
       "      <td>0</td>\n",
       "      <td>0</td>\n",
       "      <td>0</td>\n",
       "    </tr>\n",
       "    <tr>\n",
       "      <th>2</th>\n",
       "      <td>615498</td>\n",
       "      <td>58</td>\n",
       "      <td>0</td>\n",
       "      <td>0</td>\n",
       "      <td>0</td>\n",
       "      <td>0</td>\n",
       "      <td>0</td>\n",
       "      <td>0</td>\n",
       "      <td>0</td>\n",
       "      <td>0</td>\n",
       "      <td>...</td>\n",
       "      <td>0</td>\n",
       "      <td>1</td>\n",
       "      <td>0</td>\n",
       "      <td>1</td>\n",
       "      <td>0</td>\n",
       "      <td>0</td>\n",
       "      <td>0</td>\n",
       "      <td>0</td>\n",
       "      <td>0</td>\n",
       "      <td>0</td>\n",
       "    </tr>\n",
       "    <tr>\n",
       "      <th>3</th>\n",
       "      <td>615498</td>\n",
       "      <td>58</td>\n",
       "      <td>0</td>\n",
       "      <td>0</td>\n",
       "      <td>0</td>\n",
       "      <td>0</td>\n",
       "      <td>0</td>\n",
       "      <td>0</td>\n",
       "      <td>0</td>\n",
       "      <td>0</td>\n",
       "      <td>...</td>\n",
       "      <td>0</td>\n",
       "      <td>1</td>\n",
       "      <td>0</td>\n",
       "      <td>0</td>\n",
       "      <td>0</td>\n",
       "      <td>0</td>\n",
       "      <td>0</td>\n",
       "      <td>0</td>\n",
       "      <td>0</td>\n",
       "      <td>0</td>\n",
       "    </tr>\n",
       "    <tr>\n",
       "      <th>4</th>\n",
       "      <td>615498</td>\n",
       "      <td>58</td>\n",
       "      <td>0</td>\n",
       "      <td>0</td>\n",
       "      <td>0</td>\n",
       "      <td>0</td>\n",
       "      <td>0</td>\n",
       "      <td>0</td>\n",
       "      <td>0</td>\n",
       "      <td>0</td>\n",
       "      <td>...</td>\n",
       "      <td>0</td>\n",
       "      <td>1</td>\n",
       "      <td>0</td>\n",
       "      <td>1</td>\n",
       "      <td>0</td>\n",
       "      <td>0</td>\n",
       "      <td>0</td>\n",
       "      <td>0</td>\n",
       "      <td>0</td>\n",
       "      <td>0</td>\n",
       "    </tr>\n",
       "  </tbody>\n",
       "</table>\n",
       "<p>5 rows × 35 columns</p>\n",
       "</div>"
      ],
      "text/plain": [
       "   patient_id  age  alcohol_consumption  amenorrhea  bc_implant  bc_injection  \\\n",
       "0      615498   57                    0           0           0             0   \n",
       "1      615498   57                    0           0           0             0   \n",
       "2      615498   58                    0           0           0             0   \n",
       "3      615498   58                    0           0           0             0   \n",
       "4      615498   58                    0           0           0             0   \n",
       "\n",
       "   bc_oral  bc_other  bi_oophorectomy  birth_control  ...  oab_incontinence  \\\n",
       "0        0         0                0              0  ...                 0   \n",
       "1        0         0                0              0  ...                 0   \n",
       "2        0         0                0              0  ...                 0   \n",
       "3        0         0                0              0  ...                 0   \n",
       "4        0         0                0              0  ...                 0   \n",
       "\n",
       "   post_meno  sleep_disturbance  smoker  stress_incontinence  \\\n",
       "0          1                  0       0                    0   \n",
       "1          1                  0       0                    0   \n",
       "2          1                  0       1                    0   \n",
       "3          1                  0       0                    0   \n",
       "4          1                  0       1                    0   \n",
       "\n",
       "   uni_oophorectomy  urge_incontinence  uti  vaginal_dryness  weight_gain  \n",
       "0                 0                  0    0                0            0  \n",
       "1                 0                  0    0                0            0  \n",
       "2                 0                  0    0                0            0  \n",
       "3                 0                  0    0                0            0  \n",
       "4                 0                  0    0                0            0  \n",
       "\n",
       "[5 rows x 35 columns]"
      ]
     },
     "execution_count": 54,
     "metadata": {},
     "output_type": "execute_result"
    }
   ],
   "source": [
    "df.head()"
   ]
  },
  {
   "cell_type": "code",
   "execution_count": 55,
   "id": "f8cf26be",
   "metadata": {},
   "outputs": [
    {
     "data": {
      "text/plain": [
       "array([2, 1, 5, 3, 4, 6, 9], dtype=int64)"
      ]
     },
     "execution_count": 55,
     "metadata": {},
     "output_type": "execute_result"
    }
   ],
   "source": [
    "df['sym_count']=df.drop(['patient_id','age'],axis=1).sum(1)\n",
    "df.sym_count.unique()"
   ]
  },
  {
   "cell_type": "code",
   "execution_count": 56,
   "id": "18a1cc5c",
   "metadata": {},
   "outputs": [
    {
     "data": {
      "text/plain": [
       "array([2, 1, 5, 3, 4, 6, 9], dtype=int64)"
      ]
     },
     "execution_count": 56,
     "metadata": {},
     "output_type": "execute_result"
    }
   ],
   "source": [
    "df.sym_count.unique()"
   ]
  },
  {
   "cell_type": "code",
   "execution_count": 57,
   "id": "b0172b34",
   "metadata": {},
   "outputs": [],
   "source": [
    "df_1 = df[df['sym_count']>3].drop('sym_count',axis=1)#.patient_id.nunique()"
   ]
  },
  {
   "cell_type": "code",
   "execution_count": 58,
   "id": "ba5c4a35",
   "metadata": {},
   "outputs": [
    {
     "data": {
      "text/plain": [
       "9"
      ]
     },
     "execution_count": 58,
     "metadata": {},
     "output_type": "execute_result"
    }
   ],
   "source": [
    "df_1.groupby('patient_id')['patient_id'].transform('count').max()"
   ]
  },
  {
   "cell_type": "code",
   "execution_count": 59,
   "id": "4b0025c7",
   "metadata": {},
   "outputs": [],
   "source": [
    "features = 34\n",
    "t_series = 9\n",
    "data_lst = []\n",
    "sz = t_series*34\n",
    "\n",
    "for ptnt in df_1.patient_id.unique():\n",
    "    tmp = np.array(df_1[df_1['patient_id']==ptnt].drop('patient_id',axis=1))\n",
    "    tmp_0 = np.zeros(sz)\n",
    "    tmp_0[:tmp.size] = tmp.reshape(tmp.size,)\n",
    "    tmp = tmp_0.reshape(t_series,features).astype(int)\n",
    "    data_lst.append(tmp)\n",
    "data_lst = np.array(data_lst).copy()"
   ]
  },
  {
   "cell_type": "code",
   "execution_count": 60,
   "id": "89473055",
   "metadata": {},
   "outputs": [
    {
     "data": {
      "text/plain": [
       "(195, 9, 34)"
      ]
     },
     "execution_count": 60,
     "metadata": {},
     "output_type": "execute_result"
    }
   ],
   "source": [
    "data_lst.shape"
   ]
  },
  {
   "cell_type": "code",
   "execution_count": 61,
   "id": "59ded51c",
   "metadata": {},
   "outputs": [],
   "source": [
    "#data_y.shape,data_x.shape"
   ]
  },
  {
   "cell_type": "code",
   "execution_count": 62,
   "id": "533cd604",
   "metadata": {},
   "outputs": [],
   "source": [
    "patients = data_lst.shape[0]\n",
    "features = data_lst.shape[2]\n",
    "t_series = data_lst.shape[1]"
   ]
  },
  {
   "cell_type": "code",
   "execution_count": 63,
   "id": "fb1b1fdb",
   "metadata": {},
   "outputs": [],
   "source": [
    "sequence = np.array(data_lst).reshape((patients, t_series, features))"
   ]
  },
  {
   "cell_type": "code",
   "execution_count": 64,
   "id": "d46a2a45",
   "metadata": {},
   "outputs": [
    {
     "data": {
      "text/plain": [
       "(195, 9, 34)"
      ]
     },
     "execution_count": 64,
     "metadata": {},
     "output_type": "execute_result"
    }
   ],
   "source": [
    "sequence.shape"
   ]
  },
  {
   "cell_type": "code",
   "execution_count": 65,
   "id": "a81ce83c",
   "metadata": {},
   "outputs": [
    {
     "name": "stdout",
     "output_type": "stream",
     "text": [
      "Model: \"sequential_1\"\n",
      "_________________________________________________________________\n",
      " Layer (type)                Output Shape              Param #   \n",
      "=================================================================\n",
      " Encoder_1 (LSTM)            (None, 50)                17000     \n",
      "                                                                 \n",
      " Repeater_bridge (RepeatVect  (None, 9, 50)            0         \n",
      " or)                                                             \n",
      "                                                                 \n",
      " Decoder_1 (LSTM)            (None, 9, 50)             20200     \n",
      "                                                                 \n",
      " Time_Distributed (TimeDistr  (None, 9, 34)            1734      \n",
      " ibuted)                                                         \n",
      "                                                                 \n",
      "=================================================================\n",
      "Total params: 38,934\n",
      "Trainable params: 38,934\n",
      "Non-trainable params: 0\n",
      "_________________________________________________________________\n",
      "None\n"
     ]
    }
   ],
   "source": [
    "# define model\n",
    "model = Sequential()\n",
    "model.add(LSTM(50, activation='relu', input_shape=(t_series, features),return_sequences=False, name = 'Encoder_1'))\n",
    "#model.add(LSTM(50, activation='relu', return_sequences=False))\n",
    "model.add(RepeatVector(t_series, name = 'Repeater_bridge'))\n",
    "#model.add(LSTM(50, activation='relu', return_sequences=True))\n",
    "model.add(LSTM(50, activation='relu', return_sequences=True, name = 'Decoder_1'))\n",
    "model.add(TimeDistributed(Dense(features),name = 'Time_Distributed'))\n",
    "model.compile(optimizer='adam', loss='mse')\n",
    "model.build()\n",
    "print(model.summary())"
   ]
  },
  {
   "cell_type": "code",
   "execution_count": 66,
   "id": "b2c123c9",
   "metadata": {
    "scrolled": true
   },
   "outputs": [
    {
     "name": "stdout",
     "output_type": "stream",
     "text": [
      "Epoch 1/40\n",
      "7/7 [==============================] - 3s 15ms/step - loss: 14.3627\n",
      "Epoch 2/40\n",
      "7/7 [==============================] - 0s 17ms/step - loss: 14.1967\n",
      "Epoch 3/40\n",
      "7/7 [==============================] - 0s 18ms/step - loss: 13.9913\n",
      "Epoch 4/40\n",
      "7/7 [==============================] - 0s 17ms/step - loss: 13.6104\n",
      "Epoch 5/40\n",
      "7/7 [==============================] - 0s 19ms/step - loss: 12.8246\n",
      "Epoch 6/40\n",
      "7/7 [==============================] - 0s 16ms/step - loss: 11.7211\n",
      "Epoch 7/40\n",
      "7/7 [==============================] - 0s 18ms/step - loss: 10.4179\n",
      "Epoch 8/40\n",
      "7/7 [==============================] - 0s 20ms/step - loss: 9.1437\n",
      "Epoch 9/40\n",
      "7/7 [==============================] - 0s 19ms/step - loss: 7.6295\n",
      "Epoch 10/40\n",
      "7/7 [==============================] - 0s 22ms/step - loss: 5.8600\n",
      "Epoch 11/40\n",
      "7/7 [==============================] - 0s 28ms/step - loss: 4.1151\n",
      "Epoch 12/40\n",
      "7/7 [==============================] - 0s 17ms/step - loss: 3.5027\n",
      "Epoch 13/40\n",
      "7/7 [==============================] - 0s 20ms/step - loss: 2.7807\n",
      "Epoch 14/40\n",
      "7/7 [==============================] - 0s 19ms/step - loss: 2.0779\n",
      "Epoch 15/40\n",
      "7/7 [==============================] - 0s 19ms/step - loss: 1.7133\n",
      "Epoch 16/40\n",
      "7/7 [==============================] - 0s 15ms/step - loss: 1.3350\n",
      "Epoch 17/40\n",
      "7/7 [==============================] - 0s 16ms/step - loss: 1.0644\n",
      "Epoch 18/40\n",
      "7/7 [==============================] - 0s 20ms/step - loss: 1.1248\n",
      "Epoch 19/40\n",
      "7/7 [==============================] - 0s 24ms/step - loss: 0.8447\n",
      "Epoch 20/40\n",
      "7/7 [==============================] - 0s 17ms/step - loss: 0.6638\n",
      "Epoch 21/40\n",
      "7/7 [==============================] - 0s 15ms/step - loss: 0.5705\n",
      "Epoch 22/40\n",
      "7/7 [==============================] - 0s 18ms/step - loss: 0.4859\n",
      "Epoch 23/40\n",
      "7/7 [==============================] - 0s 18ms/step - loss: 0.4217\n",
      "Epoch 24/40\n",
      "7/7 [==============================] - 0s 17ms/step - loss: 0.3749\n",
      "Epoch 25/40\n",
      "7/7 [==============================] - 0s 17ms/step - loss: 0.3574\n",
      "Epoch 26/40\n",
      "7/7 [==============================] - 0s 17ms/step - loss: 0.3149\n",
      "Epoch 27/40\n",
      "7/7 [==============================] - 0s 19ms/step - loss: 0.2866\n",
      "Epoch 28/40\n",
      "7/7 [==============================] - 0s 18ms/step - loss: 0.2697\n",
      "Epoch 29/40\n",
      "7/7 [==============================] - 0s 16ms/step - loss: 0.2630\n",
      "Epoch 30/40\n",
      "7/7 [==============================] - 0s 16ms/step - loss: 0.2526\n",
      "Epoch 31/40\n",
      "7/7 [==============================] - 0s 15ms/step - loss: 0.2473\n",
      "Epoch 32/40\n",
      "7/7 [==============================] - 0s 16ms/step - loss: 0.2390\n",
      "Epoch 33/40\n",
      "7/7 [==============================] - 0s 17ms/step - loss: 0.2190\n",
      "Epoch 34/40\n",
      "7/7 [==============================] - 0s 35ms/step - loss: 0.2006\n",
      "Epoch 35/40\n",
      "7/7 [==============================] - 0s 26ms/step - loss: 0.1904\n",
      "Epoch 36/40\n",
      "7/7 [==============================] - 0s 23ms/step - loss: 0.1800\n",
      "Epoch 37/40\n",
      "7/7 [==============================] - 0s 17ms/step - loss: 0.1846\n",
      "Epoch 38/40\n",
      "7/7 [==============================] - 0s 16ms/step - loss: 0.1744\n",
      "Epoch 39/40\n",
      "7/7 [==============================] - 0s 16ms/step - loss: 0.1653\n",
      "Epoch 40/40\n",
      "7/7 [==============================] - 0s 15ms/step - loss: 0.1577\n"
     ]
    }
   ],
   "source": [
    "# fit model\n",
    "history = model.fit(sequence, sequence, epochs=40)"
   ]
  },
  {
   "cell_type": "code",
   "execution_count": 67,
   "id": "9c8dff18",
   "metadata": {},
   "outputs": [
    {
     "data": {
      "image/png": "[encoded data removed]",
      "text/plain": [
       "<Figure size 432x288 with 1 Axes>"
      ]
     },
     "metadata": {
      "needs_background": "light"
     },
     "output_type": "display_data"
    }
   ],
   "source": [
    "plt.plot(history.history['loss'])\n",
    "plt.title('Training Loss')\n",
    "plt.ylabel('loss')\n",
    "plt.xlabel('epoch')\n",
    "#plt.legend(['train', 'val'], loc='upper left')\n",
    "plt.show()"
   ]
  },
  {
   "cell_type": "code",
   "execution_count": 68,
   "id": "ce488acc",
   "metadata": {},
   "outputs": [
    {
     "name": "stdout",
     "output_type": "stream",
     "text": [
      "[ 5.4394398e+01  2.2239047e-01  7.4451372e-02  1.1440407e-01\n",
      "  1.3356097e-03  1.4820836e-01 -1.4482640e-01 -1.8039029e-02\n",
      "  2.0229375e-01 -1.8856324e-01  1.5030587e-01  1.6372053e-01\n",
      "  2.7799323e-01  8.4104814e-02  2.5698406e-01  1.7208761e-01\n",
      "  1.5937763e-01 -2.3067906e-01 -4.3916225e-02 -2.1308901e-02\n",
      "  5.4833516e-02  7.2363895e-01 -2.3731330e-01 -1.6847247e-02\n",
      "  2.7917632e-01  9.7145545e-01  5.6531042e-01  1.1605093e-01\n",
      "  3.5048372e-01  2.0173559e-02  2.1331263e-01  2.8521818e-01\n",
      "  1.9054893e-01  3.0798212e-01]\n"
     ]
    }
   ],
   "source": [
    "# demonstrate recreation\n",
    "yhat = model.predict(sequence)\n",
    "print(yhat[0,0,:])"
   ]
  },
  {
   "cell_type": "code",
   "execution_count": 69,
   "id": "b07b4ce7",
   "metadata": {},
   "outputs": [
    {
     "data": {
      "text/plain": [
       "array([54,  0,  0,  0,  0,  0,  0,  0,  0,  0,  0,  0,  0,  0,  0,  0,  0,\n",
       "        0,  0,  0,  0,  0,  0,  0,  1,  1,  1,  0,  1,  0,  0,  1,  0,  0])"
      ]
     },
     "execution_count": 69,
     "metadata": {},
     "output_type": "execute_result"
    }
   ],
   "source": [
    "sequence[0,0,:]"
   ]
  },
  {
   "cell_type": "code",
   "execution_count": 70,
   "id": "ddb83b00",
   "metadata": {},
   "outputs": [],
   "source": [
    "encoder_layer = Model(inputs=model.inputs, outputs=model.layers[0].output)\n",
    "encoded_features = np.array(encoder_layer.predict(sequence))"
   ]
  },
  {
   "cell_type": "code",
   "execution_count": 71,
   "id": "87083ca5",
   "metadata": {},
   "outputs": [
    {
     "data": {
      "text/plain": [
       "(195, 50)"
      ]
     },
     "execution_count": 71,
     "metadata": {},
     "output_type": "execute_result"
    }
   ],
   "source": [
    "encoded_features.shape"
   ]
  },
  {
   "cell_type": "code",
   "execution_count": 72,
   "id": "a9674019",
   "metadata": {},
   "outputs": [
    {
     "data": {
      "text/html": [
       "<div>\n",
       "<style scoped>\n",
       "    .dataframe tbody tr th:only-of-type {\n",
       "        vertical-align: middle;\n",
       "    }\n",
       "\n",
       "    .dataframe tbody tr th {\n",
       "        vertical-align: top;\n",
       "    }\n",
       "\n",
       "    .dataframe thead th {\n",
       "        text-align: right;\n",
       "    }\n",
       "</style>\n",
       "<table border=\"1\" class=\"dataframe\">\n",
       "  <thead>\n",
       "    <tr style=\"text-align: right;\">\n",
       "      <th></th>\n",
       "      <th>0</th>\n",
       "      <th>1</th>\n",
       "      <th>2</th>\n",
       "      <th>3</th>\n",
       "      <th>4</th>\n",
       "      <th>5</th>\n",
       "      <th>6</th>\n",
       "      <th>7</th>\n",
       "      <th>8</th>\n",
       "      <th>9</th>\n",
       "      <th>...</th>\n",
       "      <th>40</th>\n",
       "      <th>41</th>\n",
       "      <th>42</th>\n",
       "      <th>43</th>\n",
       "      <th>44</th>\n",
       "      <th>45</th>\n",
       "      <th>46</th>\n",
       "      <th>47</th>\n",
       "      <th>48</th>\n",
       "      <th>49</th>\n",
       "    </tr>\n",
       "  </thead>\n",
       "  <tbody>\n",
       "    <tr>\n",
       "      <th>0</th>\n",
       "      <td>0.0</td>\n",
       "      <td>0.000051</td>\n",
       "      <td>33.753075</td>\n",
       "      <td>0.013599</td>\n",
       "      <td>0.409395</td>\n",
       "      <td>6.748845e-14</td>\n",
       "      <td>19.154661</td>\n",
       "      <td>0.0</td>\n",
       "      <td>1.759043e-07</td>\n",
       "      <td>23.903402</td>\n",
       "      <td>...</td>\n",
       "      <td>0.183480</td>\n",
       "      <td>0.245681</td>\n",
       "      <td>35.017307</td>\n",
       "      <td>0.0</td>\n",
       "      <td>0.437269</td>\n",
       "      <td>18.625256</td>\n",
       "      <td>8.633573</td>\n",
       "      <td>3.142771</td>\n",
       "      <td>4.424978</td>\n",
       "      <td>25.470936</td>\n",
       "    </tr>\n",
       "    <tr>\n",
       "      <th>1</th>\n",
       "      <td>0.0</td>\n",
       "      <td>0.000017</td>\n",
       "      <td>37.208939</td>\n",
       "      <td>0.004973</td>\n",
       "      <td>0.406534</td>\n",
       "      <td>1.949168e-15</td>\n",
       "      <td>21.661926</td>\n",
       "      <td>0.0</td>\n",
       "      <td>7.176553e-02</td>\n",
       "      <td>26.225416</td>\n",
       "      <td>...</td>\n",
       "      <td>0.151397</td>\n",
       "      <td>0.200653</td>\n",
       "      <td>37.538280</td>\n",
       "      <td>0.0</td>\n",
       "      <td>0.463639</td>\n",
       "      <td>20.787306</td>\n",
       "      <td>9.992109</td>\n",
       "      <td>3.437285</td>\n",
       "      <td>4.887475</td>\n",
       "      <td>27.738605</td>\n",
       "    </tr>\n",
       "    <tr>\n",
       "      <th>2</th>\n",
       "      <td>0.0</td>\n",
       "      <td>0.000046</td>\n",
       "      <td>34.095634</td>\n",
       "      <td>0.017915</td>\n",
       "      <td>0.364721</td>\n",
       "      <td>6.003709e-14</td>\n",
       "      <td>19.277250</td>\n",
       "      <td>0.0</td>\n",
       "      <td>1.912511e-07</td>\n",
       "      <td>23.898794</td>\n",
       "      <td>...</td>\n",
       "      <td>0.183568</td>\n",
       "      <td>0.258462</td>\n",
       "      <td>35.342880</td>\n",
       "      <td>0.0</td>\n",
       "      <td>0.418441</td>\n",
       "      <td>19.080139</td>\n",
       "      <td>8.885135</td>\n",
       "      <td>3.088067</td>\n",
       "      <td>4.351240</td>\n",
       "      <td>25.877357</td>\n",
       "    </tr>\n",
       "    <tr>\n",
       "      <th>3</th>\n",
       "      <td>0.0</td>\n",
       "      <td>0.000014</td>\n",
       "      <td>38.281948</td>\n",
       "      <td>0.003375</td>\n",
       "      <td>0.409831</td>\n",
       "      <td>5.697105e-16</td>\n",
       "      <td>22.496206</td>\n",
       "      <td>0.0</td>\n",
       "      <td>9.190366e-02</td>\n",
       "      <td>26.803535</td>\n",
       "      <td>...</td>\n",
       "      <td>0.142429</td>\n",
       "      <td>0.184963</td>\n",
       "      <td>38.417645</td>\n",
       "      <td>0.0</td>\n",
       "      <td>0.462543</td>\n",
       "      <td>21.472607</td>\n",
       "      <td>10.420385</td>\n",
       "      <td>3.534772</td>\n",
       "      <td>5.055397</td>\n",
       "      <td>28.515350</td>\n",
       "    </tr>\n",
       "    <tr>\n",
       "      <th>4</th>\n",
       "      <td>0.0</td>\n",
       "      <td>0.000110</td>\n",
       "      <td>31.085737</td>\n",
       "      <td>0.035271</td>\n",
       "      <td>0.391699</td>\n",
       "      <td>1.182366e-12</td>\n",
       "      <td>17.067955</td>\n",
       "      <td>0.0</td>\n",
       "      <td>6.460351e-07</td>\n",
       "      <td>21.935076</td>\n",
       "      <td>...</td>\n",
       "      <td>0.211376</td>\n",
       "      <td>0.293639</td>\n",
       "      <td>32.420475</td>\n",
       "      <td>0.0</td>\n",
       "      <td>0.436863</td>\n",
       "      <td>17.198481</td>\n",
       "      <td>7.590893</td>\n",
       "      <td>2.847111</td>\n",
       "      <td>4.088339</td>\n",
       "      <td>23.395575</td>\n",
       "    </tr>\n",
       "  </tbody>\n",
       "</table>\n",
       "<p>5 rows × 50 columns</p>\n",
       "</div>"
      ],
      "text/plain": [
       "    0         1          2         3         4             5          6    7   \\\n",
       "0  0.0  0.000051  33.753075  0.013599  0.409395  6.748845e-14  19.154661  0.0   \n",
       "1  0.0  0.000017  37.208939  0.004973  0.406534  1.949168e-15  21.661926  0.0   \n",
       "2  0.0  0.000046  34.095634  0.017915  0.364721  6.003709e-14  19.277250  0.0   \n",
       "3  0.0  0.000014  38.281948  0.003375  0.409831  5.697105e-16  22.496206  0.0   \n",
       "4  0.0  0.000110  31.085737  0.035271  0.391699  1.182366e-12  17.067955  0.0   \n",
       "\n",
       "             8          9   ...        40        41         42   43        44  \\\n",
       "0  1.759043e-07  23.903402  ...  0.183480  0.245681  35.017307  0.0  0.437269   \n",
       "1  7.176553e-02  26.225416  ...  0.151397  0.200653  37.538280  0.0  0.463639   \n",
       "2  1.912511e-07  23.898794  ...  0.183568  0.258462  35.342880  0.0  0.418441   \n",
       "3  9.190366e-02  26.803535  ...  0.142429  0.184963  38.417645  0.0  0.462543   \n",
       "4  6.460351e-07  21.935076  ...  0.211376  0.293639  32.420475  0.0  0.436863   \n",
       "\n",
       "          45         46        47        48         49  \n",
       "0  18.625256   8.633573  3.142771  4.424978  25.470936  \n",
       "1  20.787306   9.992109  3.437285  4.887475  27.738605  \n",
       "2  19.080139   8.885135  3.088067  4.351240  25.877357  \n",
       "3  21.472607  10.420385  3.534772  5.055397  28.515350  \n",
       "4  17.198481   7.590893  2.847111  4.088339  23.395575  \n",
       "\n",
       "[5 rows x 50 columns]"
      ]
     },
     "execution_count": 72,
     "metadata": {},
     "output_type": "execute_result"
    }
   ],
   "source": [
    "df_2 = pd.DataFrame(encoded_features)\n",
    "df_2.head()"
   ]
  },
  {
   "cell_type": "code",
   "execution_count": 73,
   "id": "e19f1f48",
   "metadata": {},
   "outputs": [
    {
     "data": {
      "image/png": "[encoded data removed]",
      "text/plain": [
       "<Figure size 432x288 with 1 Axes>"
      ]
     },
     "metadata": {
      "needs_background": "light"
     },
     "output_type": "display_data"
    }
   ],
   "source": [
    "#Plotting Dendograms\n",
    "import scipy.cluster.hierarchy as shc\n",
    "plt.figure()\n",
    "Dendrogram = shc.dendrogram((shc.linkage(df_2, method ='ward')))\n",
    "plt.show()"
   ]
  },
  {
   "cell_type": "code",
   "execution_count": 74,
   "id": "ed426813",
   "metadata": {},
   "outputs": [
    {
     "data": {
      "image/png": "[encoded data removed]",
      "text/plain": [
       "<Figure size 432x288 with 1 Axes>"
      ]
     },
     "metadata": {
      "needs_background": "light"
     },
     "output_type": "display_data"
    }
   ],
   "source": [
    "import scipy.cluster.hierarchy as shc\n",
    "plt.figure()\n",
    "Dendrogram = shc.dendrogram((shc.linkage(df_2, method ='average')))\n",
    "plt.show()"
   ]
  },
  {
   "cell_type": "code",
   "execution_count": 75,
   "id": "f9a49fbe",
   "metadata": {},
   "outputs": [],
   "source": [
    "from sklearn.cluster import AgglomerativeClustering\n",
    "from sklearn import metrics"
   ]
  },
  {
   "cell_type": "code",
   "execution_count": 76,
   "id": "80deaf82",
   "metadata": {},
   "outputs": [],
   "source": [
    "clu_model = AgglomerativeClustering(n_clusters = 4,linkage='ward')\n",
    "labels = clu_model.fit_predict(df_2)"
   ]
  },
  {
   "cell_type": "code",
   "execution_count": 77,
   "id": "aefb6936",
   "metadata": {},
   "outputs": [
    {
     "data": {
      "text/plain": [
       "array([0, 0, 0, 0, 0, 0, 2, 2, 0, 1, 0, 0, 0, 0, 1, 0, 0, 2, 2, 0, 0, 0,\n",
       "       1, 0, 0, 2, 0, 2, 0, 0, 0, 0, 2, 0, 0, 0, 0, 0, 1, 0, 0, 0, 0, 0,\n",
       "       0, 1, 1, 0, 1, 2, 2, 0, 0, 0, 0, 1, 2, 0, 2, 0, 1, 0, 1, 0, 1, 1,\n",
       "       0, 0, 0, 0, 0, 2, 0, 1, 2, 0, 2, 2, 0, 0, 0, 0, 2, 1, 0, 0, 0, 0,\n",
       "       1, 2, 2, 0, 0, 0, 0, 0, 0, 0, 0, 0, 0, 0, 0, 0, 0, 0, 0, 1, 0, 2,\n",
       "       2, 0, 0, 0, 0, 0, 0, 1, 0, 2, 0, 2, 1, 1, 0, 0, 2, 1, 0, 0, 0, 0,\n",
       "       0, 0, 0, 0, 0, 0, 0, 0, 2, 1, 0, 0, 1, 1, 0, 1, 0, 0, 2, 0, 2, 0,\n",
       "       0, 2, 2, 0, 2, 0, 2, 0, 0, 1, 0, 0, 2, 1, 0, 0, 1, 2, 0, 2, 0, 2,\n",
       "       2, 0, 0, 0, 0, 0, 0, 1, 3, 0, 0, 0, 0, 0, 0, 0, 2, 2, 0],\n",
       "      dtype=int64)"
      ]
     },
     "execution_count": 77,
     "metadata": {},
     "output_type": "execute_result"
    }
   ],
   "source": [
    "labels"
   ]
  },
  {
   "cell_type": "code",
   "execution_count": 78,
   "id": "baf84499",
   "metadata": {},
   "outputs": [
    {
     "name": "stdout",
     "output_type": "stream",
     "text": [
      "Counter({0: 129, 2: 37, 1: 28, 3: 1})\n"
     ]
    }
   ],
   "source": [
    "import collections\n",
    "print(collections.Counter(labels))"
   ]
  },
  {
   "cell_type": "code",
   "execution_count": 79,
   "id": "49c3688a",
   "metadata": {},
   "outputs": [],
   "source": [
    "mtrcs = ['euclidean', 'l2', 'l1', 'manhattan', 'cityblock']"
   ]
  },
  {
   "cell_type": "code",
   "execution_count": 80,
   "id": "e298a15d",
   "metadata": {},
   "outputs": [
    {
     "name": "stdout",
     "output_type": "stream",
     "text": [
      "euclidean - Silhouette Score: 0.6424163\n",
      "l2 - Silhouette Score: 0.6424163\n",
      "l1 - Silhouette Score: 0.6579864580376323\n",
      "manhattan - Silhouette Score: 0.6579864580376323\n",
      "cityblock - Silhouette Score: 0.6579864580376323\n"
     ]
    }
   ],
   "source": [
    "for i in mtrcs:\n",
    "    print(i,\"- Silhouette Score:\",metrics.silhouette_score(df_2,labels,metric = i))"
   ]
  },
  {
   "cell_type": "code",
   "execution_count": 81,
   "id": "2888e511",
   "metadata": {},
   "outputs": [
    {
     "data": {
      "text/html": [
       "<div>\n",
       "<style scoped>\n",
       "    .dataframe tbody tr th:only-of-type {\n",
       "        vertical-align: middle;\n",
       "    }\n",
       "\n",
       "    .dataframe tbody tr th {\n",
       "        vertical-align: top;\n",
       "    }\n",
       "\n",
       "    .dataframe thead th {\n",
       "        text-align: right;\n",
       "    }\n",
       "</style>\n",
       "<table border=\"1\" class=\"dataframe\">\n",
       "  <thead>\n",
       "    <tr style=\"text-align: right;\">\n",
       "      <th></th>\n",
       "      <th>patient_id</th>\n",
       "      <th>labels</th>\n",
       "    </tr>\n",
       "  </thead>\n",
       "  <tbody>\n",
       "    <tr>\n",
       "      <th>0</th>\n",
       "      <td>622135</td>\n",
       "      <td>0</td>\n",
       "    </tr>\n",
       "    <tr>\n",
       "      <th>1</th>\n",
       "      <td>1030374</td>\n",
       "      <td>0</td>\n",
       "    </tr>\n",
       "    <tr>\n",
       "      <th>2</th>\n",
       "      <td>2065646</td>\n",
       "      <td>0</td>\n",
       "    </tr>\n",
       "    <tr>\n",
       "      <th>3</th>\n",
       "      <td>2502591</td>\n",
       "      <td>0</td>\n",
       "    </tr>\n",
       "    <tr>\n",
       "      <th>4</th>\n",
       "      <td>2507759</td>\n",
       "      <td>0</td>\n",
       "    </tr>\n",
       "  </tbody>\n",
       "</table>\n",
       "</div>"
      ],
      "text/plain": [
       "   patient_id  labels\n",
       "0      622135       0\n",
       "1     1030374       0\n",
       "2     2065646       0\n",
       "3     2502591       0\n",
       "4     2507759       0"
      ]
     },
     "execution_count": 81,
     "metadata": {},
     "output_type": "execute_result"
    }
   ],
   "source": [
    "df_labels = pd.DataFrame(df_1['patient_id'].unique(),columns=['patient_id'])\n",
    "df_labels['labels']=labels\n",
    "df_labels.head()"
   ]
  },
  {
   "cell_type": "code",
   "execution_count": 82,
   "id": "38d9d26b",
   "metadata": {},
   "outputs": [
    {
     "data": {
      "text/plain": [
       "0    129\n",
       "2     37\n",
       "1     28\n",
       "3      1\n",
       "Name: labels, dtype: int64"
      ]
     },
     "execution_count": 82,
     "metadata": {},
     "output_type": "execute_result"
    }
   ],
   "source": [
    "df_labels.labels.value_counts()"
   ]
  },
  {
   "cell_type": "code",
   "execution_count": 83,
   "id": "3e70ca7e",
   "metadata": {},
   "outputs": [],
   "source": [
    "from sklearn.cluster import KMeans"
   ]
  },
  {
   "cell_type": "code",
   "execution_count": 84,
   "id": "bf8b5633",
   "metadata": {},
   "outputs": [
    {
     "name": "stderr",
     "output_type": "stream",
     "text": [
      "D:\\Users\\mjichkar\\Anaconda3\\lib\\site-packages\\sklearn\\cluster\\_kmeans.py:881: UserWarning: KMeans is known to have a memory leak on Windows with MKL, when there are less chunks than available threads. You can avoid it by setting the environment variable OMP_NUM_THREADS=1.\n",
      "  warnings.warn(\n"
     ]
    },
    {
     "data": {
      "image/png": "[encoded data removed]",
      "text/plain": [
       "<Figure size 432x288 with 1 Axes>"
      ]
     },
     "metadata": {
      "needs_background": "light"
     },
     "output_type": "display_data"
    }
   ],
   "source": [
    "wcss=[]\n",
    "for i in range(1,15):\n",
    "    kmeans = KMeans(i)\n",
    "    kmeans.fit(df_2)\n",
    "    wcss_iter = kmeans.inertia_\n",
    "    wcss.append(wcss_iter)\n",
    "\n",
    "number_clusters = range(1,15)\n",
    "plt.plot(number_clusters,wcss)\n",
    "plt.title('The Elbow title')\n",
    "plt.xlabel('Number of clusters')\n",
    "plt.ylabel('WCSS')\n",
    "plt.show()"
   ]
  },
  {
   "cell_type": "code",
   "execution_count": 85,
   "id": "4c3d0579",
   "metadata": {},
   "outputs": [
    {
     "data": {
      "text/plain": [
       "KMeans(n_clusters=3)"
      ]
     },
     "execution_count": 85,
     "metadata": {},
     "output_type": "execute_result"
    }
   ],
   "source": [
    "kmeans = KMeans(3)\n",
    "kmeans.fit(df_2)"
   ]
  },
  {
   "cell_type": "code",
   "execution_count": 86,
   "id": "d7c11338",
   "metadata": {},
   "outputs": [
    {
     "data": {
      "text/plain": [
       "array([1, 1, 1, 1, 1, 1, 2, 2, 1, 0, 1, 1, 1, 1, 0, 1, 1, 2, 2, 1, 1, 1,\n",
       "       0, 1, 1, 2, 1, 2, 1, 1, 1, 1, 2, 1, 1, 1, 1, 1, 0, 1, 1, 1, 1, 1,\n",
       "       1, 0, 0, 1, 0, 2, 2, 1, 1, 1, 1, 0, 2, 1, 2, 1, 0, 1, 0, 1, 0, 0,\n",
       "       1, 1, 1, 1, 1, 2, 1, 0, 2, 1, 2, 2, 1, 1, 1, 1, 2, 0, 1, 1, 1, 1,\n",
       "       0, 2, 2, 1, 1, 1, 1, 1, 1, 1, 1, 1, 1, 1, 1, 1, 1, 1, 1, 0, 1, 2,\n",
       "       2, 1, 1, 1, 1, 1, 1, 0, 1, 2, 1, 2, 0, 0, 1, 1, 2, 0, 1, 1, 1, 1,\n",
       "       1, 1, 1, 1, 1, 1, 1, 1, 2, 0, 1, 1, 0, 0, 1, 0, 1, 1, 2, 1, 2, 1,\n",
       "       1, 2, 2, 1, 2, 1, 2, 1, 1, 0, 1, 1, 2, 0, 1, 1, 0, 2, 1, 2, 1, 2,\n",
       "       2, 1, 1, 1, 1, 1, 1, 0, 0, 1, 1, 1, 1, 1, 1, 1, 2, 2, 1])"
      ]
     },
     "execution_count": 86,
     "metadata": {},
     "output_type": "execute_result"
    }
   ],
   "source": [
    "labels_k = kmeans.fit_predict(df_2)\n",
    "labels_k"
   ]
  },
  {
   "cell_type": "code",
   "execution_count": 87,
   "id": "456d46ac",
   "metadata": {},
   "outputs": [
    {
     "name": "stdout",
     "output_type": "stream",
     "text": [
      "{1: 129, 2: 37, 0: 29}\n"
     ]
    }
   ],
   "source": [
    "import collections\n",
    "print(dict(collections.Counter(labels_k)))"
   ]
  },
  {
   "cell_type": "code",
   "execution_count": 88,
   "id": "be05ef2b",
   "metadata": {},
   "outputs": [
    {
     "name": "stdout",
     "output_type": "stream",
     "text": [
      "euclidean - Silhouette Score: 0.63081264\n",
      "l2 - Silhouette Score: 0.63081264\n",
      "l1 - Silhouette Score: 0.6472393405230672\n",
      "manhattan - Silhouette Score: 0.6472393405230672\n",
      "cityblock - Silhouette Score: 0.6472393405230672\n"
     ]
    }
   ],
   "source": [
    "for i in mtrcs:\n",
    "    print(i,\"- Silhouette Score:\",metrics.silhouette_score(df_2,labels_k,metric = i))"
   ]
  },
  {
   "cell_type": "code",
   "execution_count": 89,
   "id": "5284d839",
   "metadata": {},
   "outputs": [
    {
     "data": {
      "text/html": [
       "<div>\n",
       "<style scoped>\n",
       "    .dataframe tbody tr th:only-of-type {\n",
       "        vertical-align: middle;\n",
       "    }\n",
       "\n",
       "    .dataframe tbody tr th {\n",
       "        vertical-align: top;\n",
       "    }\n",
       "\n",
       "    .dataframe thead th {\n",
       "        text-align: right;\n",
       "    }\n",
       "</style>\n",
       "<table border=\"1\" class=\"dataframe\">\n",
       "  <thead>\n",
       "    <tr style=\"text-align: right;\">\n",
       "      <th></th>\n",
       "      <th>0</th>\n",
       "      <th>1</th>\n",
       "      <th>2</th>\n",
       "      <th>3</th>\n",
       "      <th>4</th>\n",
       "      <th>5</th>\n",
       "      <th>6</th>\n",
       "      <th>7</th>\n",
       "      <th>8</th>\n",
       "      <th>9</th>\n",
       "      <th>...</th>\n",
       "      <th>40</th>\n",
       "      <th>41</th>\n",
       "      <th>42</th>\n",
       "      <th>43</th>\n",
       "      <th>44</th>\n",
       "      <th>45</th>\n",
       "      <th>46</th>\n",
       "      <th>47</th>\n",
       "      <th>48</th>\n",
       "      <th>49</th>\n",
       "    </tr>\n",
       "  </thead>\n",
       "  <tbody>\n",
       "    <tr>\n",
       "      <th>0</th>\n",
       "      <td>0.0</td>\n",
       "      <td>0.000051</td>\n",
       "      <td>33.753075</td>\n",
       "      <td>0.013599</td>\n",
       "      <td>0.409395</td>\n",
       "      <td>6.748845e-14</td>\n",
       "      <td>19.154661</td>\n",
       "      <td>0.0</td>\n",
       "      <td>1.759043e-07</td>\n",
       "      <td>23.903402</td>\n",
       "      <td>...</td>\n",
       "      <td>0.183480</td>\n",
       "      <td>0.245681</td>\n",
       "      <td>35.017307</td>\n",
       "      <td>0.0</td>\n",
       "      <td>0.437269</td>\n",
       "      <td>18.625256</td>\n",
       "      <td>8.633573</td>\n",
       "      <td>3.142771</td>\n",
       "      <td>4.424978</td>\n",
       "      <td>25.470936</td>\n",
       "    </tr>\n",
       "    <tr>\n",
       "      <th>1</th>\n",
       "      <td>0.0</td>\n",
       "      <td>0.000017</td>\n",
       "      <td>37.208939</td>\n",
       "      <td>0.004973</td>\n",
       "      <td>0.406534</td>\n",
       "      <td>1.949168e-15</td>\n",
       "      <td>21.661926</td>\n",
       "      <td>0.0</td>\n",
       "      <td>7.176553e-02</td>\n",
       "      <td>26.225416</td>\n",
       "      <td>...</td>\n",
       "      <td>0.151397</td>\n",
       "      <td>0.200653</td>\n",
       "      <td>37.538280</td>\n",
       "      <td>0.0</td>\n",
       "      <td>0.463639</td>\n",
       "      <td>20.787306</td>\n",
       "      <td>9.992109</td>\n",
       "      <td>3.437285</td>\n",
       "      <td>4.887475</td>\n",
       "      <td>27.738605</td>\n",
       "    </tr>\n",
       "    <tr>\n",
       "      <th>2</th>\n",
       "      <td>0.0</td>\n",
       "      <td>0.000046</td>\n",
       "      <td>34.095634</td>\n",
       "      <td>0.017915</td>\n",
       "      <td>0.364721</td>\n",
       "      <td>6.003709e-14</td>\n",
       "      <td>19.277250</td>\n",
       "      <td>0.0</td>\n",
       "      <td>1.912511e-07</td>\n",
       "      <td>23.898794</td>\n",
       "      <td>...</td>\n",
       "      <td>0.183568</td>\n",
       "      <td>0.258462</td>\n",
       "      <td>35.342880</td>\n",
       "      <td>0.0</td>\n",
       "      <td>0.418441</td>\n",
       "      <td>19.080139</td>\n",
       "      <td>8.885135</td>\n",
       "      <td>3.088067</td>\n",
       "      <td>4.351240</td>\n",
       "      <td>25.877357</td>\n",
       "    </tr>\n",
       "    <tr>\n",
       "      <th>3</th>\n",
       "      <td>0.0</td>\n",
       "      <td>0.000014</td>\n",
       "      <td>38.281948</td>\n",
       "      <td>0.003375</td>\n",
       "      <td>0.409831</td>\n",
       "      <td>5.697105e-16</td>\n",
       "      <td>22.496206</td>\n",
       "      <td>0.0</td>\n",
       "      <td>9.190366e-02</td>\n",
       "      <td>26.803535</td>\n",
       "      <td>...</td>\n",
       "      <td>0.142429</td>\n",
       "      <td>0.184963</td>\n",
       "      <td>38.417645</td>\n",
       "      <td>0.0</td>\n",
       "      <td>0.462543</td>\n",
       "      <td>21.472607</td>\n",
       "      <td>10.420385</td>\n",
       "      <td>3.534772</td>\n",
       "      <td>5.055397</td>\n",
       "      <td>28.515350</td>\n",
       "    </tr>\n",
       "    <tr>\n",
       "      <th>4</th>\n",
       "      <td>0.0</td>\n",
       "      <td>0.000110</td>\n",
       "      <td>31.085737</td>\n",
       "      <td>0.035271</td>\n",
       "      <td>0.391699</td>\n",
       "      <td>1.182366e-12</td>\n",
       "      <td>17.067955</td>\n",
       "      <td>0.0</td>\n",
       "      <td>6.460351e-07</td>\n",
       "      <td>21.935076</td>\n",
       "      <td>...</td>\n",
       "      <td>0.211376</td>\n",
       "      <td>0.293639</td>\n",
       "      <td>32.420475</td>\n",
       "      <td>0.0</td>\n",
       "      <td>0.436863</td>\n",
       "      <td>17.198481</td>\n",
       "      <td>7.590893</td>\n",
       "      <td>2.847111</td>\n",
       "      <td>4.088339</td>\n",
       "      <td>23.395575</td>\n",
       "    </tr>\n",
       "  </tbody>\n",
       "</table>\n",
       "<p>5 rows × 50 columns</p>\n",
       "</div>"
      ],
      "text/plain": [
       "    0         1          2         3         4             5          6    7   \\\n",
       "0  0.0  0.000051  33.753075  0.013599  0.409395  6.748845e-14  19.154661  0.0   \n",
       "1  0.0  0.000017  37.208939  0.004973  0.406534  1.949168e-15  21.661926  0.0   \n",
       "2  0.0  0.000046  34.095634  0.017915  0.364721  6.003709e-14  19.277250  0.0   \n",
       "3  0.0  0.000014  38.281948  0.003375  0.409831  5.697105e-16  22.496206  0.0   \n",
       "4  0.0  0.000110  31.085737  0.035271  0.391699  1.182366e-12  17.067955  0.0   \n",
       "\n",
       "             8          9   ...        40        41         42   43        44  \\\n",
       "0  1.759043e-07  23.903402  ...  0.183480  0.245681  35.017307  0.0  0.437269   \n",
       "1  7.176553e-02  26.225416  ...  0.151397  0.200653  37.538280  0.0  0.463639   \n",
       "2  1.912511e-07  23.898794  ...  0.183568  0.258462  35.342880  0.0  0.418441   \n",
       "3  9.190366e-02  26.803535  ...  0.142429  0.184963  38.417645  0.0  0.462543   \n",
       "4  6.460351e-07  21.935076  ...  0.211376  0.293639  32.420475  0.0  0.436863   \n",
       "\n",
       "          45         46        47        48         49  \n",
       "0  18.625256   8.633573  3.142771  4.424978  25.470936  \n",
       "1  20.787306   9.992109  3.437285  4.887475  27.738605  \n",
       "2  19.080139   8.885135  3.088067  4.351240  25.877357  \n",
       "3  21.472607  10.420385  3.534772  5.055397  28.515350  \n",
       "4  17.198481   7.590893  2.847111  4.088339  23.395575  \n",
       "\n",
       "[5 rows x 50 columns]"
      ]
     },
     "execution_count": 89,
     "metadata": {},
     "output_type": "execute_result"
    }
   ],
   "source": [
    "df_2.head()"
   ]
  },
  {
   "cell_type": "code",
   "execution_count": 99,
   "id": "aac6de8d",
   "metadata": {},
   "outputs": [
    {
     "data": {
      "text/html": [
       "<div>\n",
       "<style scoped>\n",
       "    .dataframe tbody tr th:only-of-type {\n",
       "        vertical-align: middle;\n",
       "    }\n",
       "\n",
       "    .dataframe tbody tr th {\n",
       "        vertical-align: top;\n",
       "    }\n",
       "\n",
       "    .dataframe thead th {\n",
       "        text-align: right;\n",
       "    }\n",
       "</style>\n",
       "<table border=\"1\" class=\"dataframe\">\n",
       "  <thead>\n",
       "    <tr style=\"text-align: right;\">\n",
       "      <th></th>\n",
       "      <th>patient_id</th>\n",
       "      <th>age</th>\n",
       "      <th>alcohol_consumption</th>\n",
       "      <th>amenorrhea</th>\n",
       "      <th>bc_implant</th>\n",
       "      <th>bc_injection</th>\n",
       "      <th>bc_oral</th>\n",
       "      <th>bc_other</th>\n",
       "      <th>bi_oophorectomy</th>\n",
       "      <th>birth_control</th>\n",
       "      <th>...</th>\n",
       "      <th>post_meno</th>\n",
       "      <th>sleep_disturbance</th>\n",
       "      <th>smoker</th>\n",
       "      <th>stress_incontinence</th>\n",
       "      <th>uni_oophorectomy</th>\n",
       "      <th>urge_incontinence</th>\n",
       "      <th>uti</th>\n",
       "      <th>vaginal_dryness</th>\n",
       "      <th>weight_gain</th>\n",
       "      <th>labels</th>\n",
       "    </tr>\n",
       "  </thead>\n",
       "  <tbody>\n",
       "    <tr>\n",
       "      <th>0</th>\n",
       "      <td>622135</td>\n",
       "      <td>54</td>\n",
       "      <td>0</td>\n",
       "      <td>0</td>\n",
       "      <td>0</td>\n",
       "      <td>0</td>\n",
       "      <td>0</td>\n",
       "      <td>0</td>\n",
       "      <td>0</td>\n",
       "      <td>0</td>\n",
       "      <td>...</td>\n",
       "      <td>1</td>\n",
       "      <td>1</td>\n",
       "      <td>0</td>\n",
       "      <td>1</td>\n",
       "      <td>0</td>\n",
       "      <td>0</td>\n",
       "      <td>1</td>\n",
       "      <td>0</td>\n",
       "      <td>0</td>\n",
       "      <td>0</td>\n",
       "    </tr>\n",
       "    <tr>\n",
       "      <th>1</th>\n",
       "      <td>1030374</td>\n",
       "      <td>59</td>\n",
       "      <td>1</td>\n",
       "      <td>0</td>\n",
       "      <td>0</td>\n",
       "      <td>0</td>\n",
       "      <td>0</td>\n",
       "      <td>0</td>\n",
       "      <td>0</td>\n",
       "      <td>0</td>\n",
       "      <td>...</td>\n",
       "      <td>1</td>\n",
       "      <td>1</td>\n",
       "      <td>0</td>\n",
       "      <td>0</td>\n",
       "      <td>0</td>\n",
       "      <td>0</td>\n",
       "      <td>0</td>\n",
       "      <td>0</td>\n",
       "      <td>0</td>\n",
       "      <td>0</td>\n",
       "    </tr>\n",
       "    <tr>\n",
       "      <th>2</th>\n",
       "      <td>2065646</td>\n",
       "      <td>54</td>\n",
       "      <td>0</td>\n",
       "      <td>0</td>\n",
       "      <td>0</td>\n",
       "      <td>0</td>\n",
       "      <td>0</td>\n",
       "      <td>0</td>\n",
       "      <td>0</td>\n",
       "      <td>0</td>\n",
       "      <td>...</td>\n",
       "      <td>1</td>\n",
       "      <td>0</td>\n",
       "      <td>0</td>\n",
       "      <td>0</td>\n",
       "      <td>0</td>\n",
       "      <td>0</td>\n",
       "      <td>1</td>\n",
       "      <td>0</td>\n",
       "      <td>0</td>\n",
       "      <td>0</td>\n",
       "    </tr>\n",
       "    <tr>\n",
       "      <th>3</th>\n",
       "      <td>2502591</td>\n",
       "      <td>60</td>\n",
       "      <td>0</td>\n",
       "      <td>0</td>\n",
       "      <td>0</td>\n",
       "      <td>0</td>\n",
       "      <td>0</td>\n",
       "      <td>0</td>\n",
       "      <td>0</td>\n",
       "      <td>0</td>\n",
       "      <td>...</td>\n",
       "      <td>1</td>\n",
       "      <td>0</td>\n",
       "      <td>0</td>\n",
       "      <td>1</td>\n",
       "      <td>0</td>\n",
       "      <td>0</td>\n",
       "      <td>0</td>\n",
       "      <td>1</td>\n",
       "      <td>0</td>\n",
       "      <td>0</td>\n",
       "    </tr>\n",
       "    <tr>\n",
       "      <th>4</th>\n",
       "      <td>2507759</td>\n",
       "      <td>50</td>\n",
       "      <td>0</td>\n",
       "      <td>0</td>\n",
       "      <td>0</td>\n",
       "      <td>0</td>\n",
       "      <td>0</td>\n",
       "      <td>0</td>\n",
       "      <td>0</td>\n",
       "      <td>0</td>\n",
       "      <td>...</td>\n",
       "      <td>1</td>\n",
       "      <td>1</td>\n",
       "      <td>0</td>\n",
       "      <td>0</td>\n",
       "      <td>0</td>\n",
       "      <td>0</td>\n",
       "      <td>0</td>\n",
       "      <td>0</td>\n",
       "      <td>0</td>\n",
       "      <td>0</td>\n",
       "    </tr>\n",
       "  </tbody>\n",
       "</table>\n",
       "<p>5 rows × 36 columns</p>\n",
       "</div>"
      ],
      "text/plain": [
       "   patient_id  age  alcohol_consumption  amenorrhea  bc_implant  bc_injection  \\\n",
       "0      622135   54                    0           0           0             0   \n",
       "1     1030374   59                    1           0           0             0   \n",
       "2     2065646   54                    0           0           0             0   \n",
       "3     2502591   60                    0           0           0             0   \n",
       "4     2507759   50                    0           0           0             0   \n",
       "\n",
       "   bc_oral  bc_other  bi_oophorectomy  birth_control  ...  post_meno  \\\n",
       "0        0         0                0              0  ...          1   \n",
       "1        0         0                0              0  ...          1   \n",
       "2        0         0                0              0  ...          1   \n",
       "3        0         0                0              0  ...          1   \n",
       "4        0         0                0              0  ...          1   \n",
       "\n",
       "   sleep_disturbance  smoker  stress_incontinence  uni_oophorectomy  \\\n",
       "0                  1       0                    1                 0   \n",
       "1                  1       0                    0                 0   \n",
       "2                  0       0                    0                 0   \n",
       "3                  0       0                    1                 0   \n",
       "4                  1       0                    0                 0   \n",
       "\n",
       "   urge_incontinence  uti  vaginal_dryness  weight_gain  labels  \n",
       "0                  0    1                0            0       0  \n",
       "1                  0    0                0            0       0  \n",
       "2                  0    1                0            0       0  \n",
       "3                  0    0                1            0       0  \n",
       "4                  0    0                0            0       0  \n",
       "\n",
       "[5 rows x 36 columns]"
      ]
     },
     "execution_count": 99,
     "metadata": {},
     "output_type": "execute_result"
    }
   ],
   "source": [
    "df_3 = df_1.merge(df_labels,on='patient_id',how = 'inner')\n",
    "df_3.head()"
   ]
  },
  {
   "cell_type": "code",
   "execution_count": 119,
   "id": "5582a00b",
   "metadata": {},
   "outputs": [],
   "source": [
    "Cluster_Analysis_allfeatures_df = df_3.groupby('labels').agg('sum').drop(['patient_id','age'],axis=1)"
   ]
  },
  {
   "cell_type": "code",
   "execution_count": 120,
   "id": "b341915e",
   "metadata": {},
   "outputs": [
    {
     "data": {
      "text/html": [
       "<div>\n",
       "<style scoped>\n",
       "    .dataframe tbody tr th:only-of-type {\n",
       "        vertical-align: middle;\n",
       "    }\n",
       "\n",
       "    .dataframe tbody tr th {\n",
       "        vertical-align: top;\n",
       "    }\n",
       "\n",
       "    .dataframe thead th {\n",
       "        text-align: right;\n",
       "    }\n",
       "</style>\n",
       "<table border=\"1\" class=\"dataframe\">\n",
       "  <thead>\n",
       "    <tr style=\"text-align: right;\">\n",
       "      <th></th>\n",
       "      <th>alcohol_consumption</th>\n",
       "      <th>amenorrhea</th>\n",
       "      <th>bc_implant</th>\n",
       "      <th>bc_injection</th>\n",
       "      <th>bc_oral</th>\n",
       "      <th>bc_other</th>\n",
       "      <th>bi_oophorectomy</th>\n",
       "      <th>birth_control</th>\n",
       "      <th>dec_libido</th>\n",
       "      <th>dry_skin</th>\n",
       "      <th>...</th>\n",
       "      <th>oab_incontinence</th>\n",
       "      <th>post_meno</th>\n",
       "      <th>sleep_disturbance</th>\n",
       "      <th>smoker</th>\n",
       "      <th>stress_incontinence</th>\n",
       "      <th>uni_oophorectomy</th>\n",
       "      <th>urge_incontinence</th>\n",
       "      <th>uti</th>\n",
       "      <th>vaginal_dryness</th>\n",
       "      <th>weight_gain</th>\n",
       "    </tr>\n",
       "    <tr>\n",
       "      <th>labels</th>\n",
       "      <th></th>\n",
       "      <th></th>\n",
       "      <th></th>\n",
       "      <th></th>\n",
       "      <th></th>\n",
       "      <th></th>\n",
       "      <th></th>\n",
       "      <th></th>\n",
       "      <th></th>\n",
       "      <th></th>\n",
       "      <th></th>\n",
       "      <th></th>\n",
       "      <th></th>\n",
       "      <th></th>\n",
       "      <th></th>\n",
       "      <th></th>\n",
       "      <th></th>\n",
       "      <th></th>\n",
       "      <th></th>\n",
       "      <th></th>\n",
       "      <th></th>\n",
       "    </tr>\n",
       "  </thead>\n",
       "  <tbody>\n",
       "    <tr>\n",
       "      <th>0</th>\n",
       "      <td>28</td>\n",
       "      <td>0</td>\n",
       "      <td>0</td>\n",
       "      <td>0</td>\n",
       "      <td>9</td>\n",
       "      <td>0</td>\n",
       "      <td>0</td>\n",
       "      <td>9</td>\n",
       "      <td>6</td>\n",
       "      <td>9</td>\n",
       "      <td>...</td>\n",
       "      <td>30</td>\n",
       "      <td>129</td>\n",
       "      <td>34</td>\n",
       "      <td>0</td>\n",
       "      <td>17</td>\n",
       "      <td>0</td>\n",
       "      <td>5</td>\n",
       "      <td>13</td>\n",
       "      <td>26</td>\n",
       "      <td>24</td>\n",
       "    </tr>\n",
       "    <tr>\n",
       "      <th>1</th>\n",
       "      <td>25</td>\n",
       "      <td>0</td>\n",
       "      <td>1</td>\n",
       "      <td>0</td>\n",
       "      <td>2</td>\n",
       "      <td>0</td>\n",
       "      <td>0</td>\n",
       "      <td>3</td>\n",
       "      <td>1</td>\n",
       "      <td>1</td>\n",
       "      <td>...</td>\n",
       "      <td>26</td>\n",
       "      <td>93</td>\n",
       "      <td>32</td>\n",
       "      <td>0</td>\n",
       "      <td>15</td>\n",
       "      <td>0</td>\n",
       "      <td>12</td>\n",
       "      <td>2</td>\n",
       "      <td>15</td>\n",
       "      <td>24</td>\n",
       "    </tr>\n",
       "    <tr>\n",
       "      <th>2</th>\n",
       "      <td>23</td>\n",
       "      <td>0</td>\n",
       "      <td>0</td>\n",
       "      <td>0</td>\n",
       "      <td>2</td>\n",
       "      <td>0</td>\n",
       "      <td>0</td>\n",
       "      <td>2</td>\n",
       "      <td>0</td>\n",
       "      <td>5</td>\n",
       "      <td>...</td>\n",
       "      <td>16</td>\n",
       "      <td>74</td>\n",
       "      <td>29</td>\n",
       "      <td>0</td>\n",
       "      <td>11</td>\n",
       "      <td>0</td>\n",
       "      <td>7</td>\n",
       "      <td>6</td>\n",
       "      <td>5</td>\n",
       "      <td>18</td>\n",
       "    </tr>\n",
       "    <tr>\n",
       "      <th>3</th>\n",
       "      <td>0</td>\n",
       "      <td>0</td>\n",
       "      <td>0</td>\n",
       "      <td>0</td>\n",
       "      <td>0</td>\n",
       "      <td>0</td>\n",
       "      <td>0</td>\n",
       "      <td>0</td>\n",
       "      <td>0</td>\n",
       "      <td>0</td>\n",
       "      <td>...</td>\n",
       "      <td>1</td>\n",
       "      <td>9</td>\n",
       "      <td>1</td>\n",
       "      <td>0</td>\n",
       "      <td>0</td>\n",
       "      <td>0</td>\n",
       "      <td>0</td>\n",
       "      <td>1</td>\n",
       "      <td>0</td>\n",
       "      <td>2</td>\n",
       "    </tr>\n",
       "  </tbody>\n",
       "</table>\n",
       "<p>4 rows × 33 columns</p>\n",
       "</div>"
      ],
      "text/plain": [
       "        alcohol_consumption  amenorrhea  bc_implant  bc_injection  bc_oral  \\\n",
       "labels                                                                       \n",
       "0                        28           0           0             0        9   \n",
       "1                        25           0           1             0        2   \n",
       "2                        23           0           0             0        2   \n",
       "3                         0           0           0             0        0   \n",
       "\n",
       "        bc_other  bi_oophorectomy  birth_control  dec_libido  dry_skin  ...  \\\n",
       "labels                                                                  ...   \n",
       "0              0                0              9           6         9  ...   \n",
       "1              0                0              3           1         1  ...   \n",
       "2              0                0              2           0         5  ...   \n",
       "3              0                0              0           0         0  ...   \n",
       "\n",
       "        oab_incontinence  post_meno  sleep_disturbance  smoker  \\\n",
       "labels                                                           \n",
       "0                     30        129                 34       0   \n",
       "1                     26         93                 32       0   \n",
       "2                     16         74                 29       0   \n",
       "3                      1          9                  1       0   \n",
       "\n",
       "        stress_incontinence  uni_oophorectomy  urge_incontinence  uti  \\\n",
       "labels                                                                  \n",
       "0                        17                 0                  5   13   \n",
       "1                        15                 0                 12    2   \n",
       "2                        11                 0                  7    6   \n",
       "3                         0                 0                  0    1   \n",
       "\n",
       "        vaginal_dryness  weight_gain  \n",
       "labels                                \n",
       "0                    26           24  \n",
       "1                    15           24  \n",
       "2                     5           18  \n",
       "3                     0            2  \n",
       "\n",
       "[4 rows x 33 columns]"
      ]
     },
     "execution_count": 120,
     "metadata": {},
     "output_type": "execute_result"
    }
   ],
   "source": [
    "Cluster_Analysis_allfeatures_df"
   ]
  },
  {
   "cell_type": "code",
   "execution_count": 122,
   "id": "c4570883",
   "metadata": {},
   "outputs": [
    {
     "data": {
      "text/html": [
       "<div>\n",
       "<style scoped>\n",
       "    .dataframe tbody tr th:only-of-type {\n",
       "        vertical-align: middle;\n",
       "    }\n",
       "\n",
       "    .dataframe tbody tr th {\n",
       "        vertical-align: top;\n",
       "    }\n",
       "\n",
       "    .dataframe thead th {\n",
       "        text-align: right;\n",
       "    }\n",
       "</style>\n",
       "<table border=\"1\" class=\"dataframe\">\n",
       "  <thead>\n",
       "    <tr style=\"text-align: right;\">\n",
       "      <th></th>\n",
       "      <th>alcohol_consumption</th>\n",
       "      <th>amenorrhea</th>\n",
       "      <th>bc_implant</th>\n",
       "      <th>bc_injection</th>\n",
       "      <th>bc_oral</th>\n",
       "      <th>bc_other</th>\n",
       "      <th>bi_oophorectomy</th>\n",
       "      <th>birth_control</th>\n",
       "      <th>dec_libido</th>\n",
       "      <th>dry_skin</th>\n",
       "      <th>...</th>\n",
       "      <th>oab_incontinence</th>\n",
       "      <th>post_meno</th>\n",
       "      <th>sleep_disturbance</th>\n",
       "      <th>smoker</th>\n",
       "      <th>stress_incontinence</th>\n",
       "      <th>uni_oophorectomy</th>\n",
       "      <th>urge_incontinence</th>\n",
       "      <th>uti</th>\n",
       "      <th>vaginal_dryness</th>\n",
       "      <th>weight_gain</th>\n",
       "    </tr>\n",
       "    <tr>\n",
       "      <th>labels</th>\n",
       "      <th></th>\n",
       "      <th></th>\n",
       "      <th></th>\n",
       "      <th></th>\n",
       "      <th></th>\n",
       "      <th></th>\n",
       "      <th></th>\n",
       "      <th></th>\n",
       "      <th></th>\n",
       "      <th></th>\n",
       "      <th></th>\n",
       "      <th></th>\n",
       "      <th></th>\n",
       "      <th></th>\n",
       "      <th></th>\n",
       "      <th></th>\n",
       "      <th></th>\n",
       "      <th></th>\n",
       "      <th></th>\n",
       "      <th></th>\n",
       "      <th></th>\n",
       "    </tr>\n",
       "  </thead>\n",
       "  <tbody>\n",
       "    <tr>\n",
       "      <th>0</th>\n",
       "      <td>36.84</td>\n",
       "      <td>0.0</td>\n",
       "      <td>0.0</td>\n",
       "      <td>0.0</td>\n",
       "      <td>69.23</td>\n",
       "      <td>0.0</td>\n",
       "      <td>0.0</td>\n",
       "      <td>64.29</td>\n",
       "      <td>85.71</td>\n",
       "      <td>60.00</td>\n",
       "      <td>...</td>\n",
       "      <td>41.10</td>\n",
       "      <td>42.30</td>\n",
       "      <td>35.42</td>\n",
       "      <td>0.0</td>\n",
       "      <td>39.53</td>\n",
       "      <td>0.0</td>\n",
       "      <td>20.83</td>\n",
       "      <td>59.09</td>\n",
       "      <td>56.52</td>\n",
       "      <td>35.29</td>\n",
       "    </tr>\n",
       "    <tr>\n",
       "      <th>1</th>\n",
       "      <td>32.89</td>\n",
       "      <td>0.0</td>\n",
       "      <td>100.0</td>\n",
       "      <td>0.0</td>\n",
       "      <td>15.38</td>\n",
       "      <td>0.0</td>\n",
       "      <td>0.0</td>\n",
       "      <td>21.43</td>\n",
       "      <td>14.29</td>\n",
       "      <td>6.67</td>\n",
       "      <td>...</td>\n",
       "      <td>35.62</td>\n",
       "      <td>30.49</td>\n",
       "      <td>33.33</td>\n",
       "      <td>0.0</td>\n",
       "      <td>34.88</td>\n",
       "      <td>0.0</td>\n",
       "      <td>50.00</td>\n",
       "      <td>9.09</td>\n",
       "      <td>32.61</td>\n",
       "      <td>35.29</td>\n",
       "    </tr>\n",
       "    <tr>\n",
       "      <th>2</th>\n",
       "      <td>30.26</td>\n",
       "      <td>0.0</td>\n",
       "      <td>0.0</td>\n",
       "      <td>0.0</td>\n",
       "      <td>15.38</td>\n",
       "      <td>0.0</td>\n",
       "      <td>0.0</td>\n",
       "      <td>14.29</td>\n",
       "      <td>0.00</td>\n",
       "      <td>33.33</td>\n",
       "      <td>...</td>\n",
       "      <td>21.92</td>\n",
       "      <td>24.26</td>\n",
       "      <td>30.21</td>\n",
       "      <td>0.0</td>\n",
       "      <td>25.58</td>\n",
       "      <td>0.0</td>\n",
       "      <td>29.17</td>\n",
       "      <td>27.27</td>\n",
       "      <td>10.87</td>\n",
       "      <td>26.47</td>\n",
       "    </tr>\n",
       "    <tr>\n",
       "      <th>3</th>\n",
       "      <td>0.00</td>\n",
       "      <td>0.0</td>\n",
       "      <td>0.0</td>\n",
       "      <td>0.0</td>\n",
       "      <td>0.00</td>\n",
       "      <td>0.0</td>\n",
       "      <td>0.0</td>\n",
       "      <td>0.00</td>\n",
       "      <td>0.00</td>\n",
       "      <td>0.00</td>\n",
       "      <td>...</td>\n",
       "      <td>1.37</td>\n",
       "      <td>2.95</td>\n",
       "      <td>1.04</td>\n",
       "      <td>0.0</td>\n",
       "      <td>0.00</td>\n",
       "      <td>0.0</td>\n",
       "      <td>0.00</td>\n",
       "      <td>4.55</td>\n",
       "      <td>0.00</td>\n",
       "      <td>2.94</td>\n",
       "    </tr>\n",
       "  </tbody>\n",
       "</table>\n",
       "<p>4 rows × 33 columns</p>\n",
       "</div>"
      ],
      "text/plain": [
       "        alcohol_consumption  amenorrhea  bc_implant  bc_injection  bc_oral  \\\n",
       "labels                                                                       \n",
       "0                     36.84         0.0         0.0           0.0    69.23   \n",
       "1                     32.89         0.0       100.0           0.0    15.38   \n",
       "2                     30.26         0.0         0.0           0.0    15.38   \n",
       "3                      0.00         0.0         0.0           0.0     0.00   \n",
       "\n",
       "        bc_other  bi_oophorectomy  birth_control  dec_libido  dry_skin  ...  \\\n",
       "labels                                                                  ...   \n",
       "0            0.0              0.0          64.29       85.71     60.00  ...   \n",
       "1            0.0              0.0          21.43       14.29      6.67  ...   \n",
       "2            0.0              0.0          14.29        0.00     33.33  ...   \n",
       "3            0.0              0.0           0.00        0.00      0.00  ...   \n",
       "\n",
       "        oab_incontinence  post_meno  sleep_disturbance  smoker  \\\n",
       "labels                                                           \n",
       "0                  41.10      42.30              35.42     0.0   \n",
       "1                  35.62      30.49              33.33     0.0   \n",
       "2                  21.92      24.26              30.21     0.0   \n",
       "3                   1.37       2.95               1.04     0.0   \n",
       "\n",
       "        stress_incontinence  uni_oophorectomy  urge_incontinence    uti  \\\n",
       "labels                                                                    \n",
       "0                     39.53               0.0              20.83  59.09   \n",
       "1                     34.88               0.0              50.00   9.09   \n",
       "2                     25.58               0.0              29.17  27.27   \n",
       "3                      0.00               0.0               0.00   4.55   \n",
       "\n",
       "        vaginal_dryness  weight_gain  \n",
       "labels                                \n",
       "0                 56.52        35.29  \n",
       "1                 32.61        35.29  \n",
       "2                 10.87        26.47  \n",
       "3                  0.00         2.94  \n",
       "\n",
       "[4 rows x 33 columns]"
      ]
     },
     "execution_count": 122,
     "metadata": {},
     "output_type": "execute_result"
    }
   ],
   "source": [
    "cluster_analysis_df_agg = pd.DataFrame()\n",
    "for col in Cluster_Analysis_allfeatures_df.columns:\n",
    "    cluster_analysis_df_agg[col] = np.round(Cluster_Analysis_allfeatures_df[col]*100/Cluster_Analysis_allfeatures_df[col].sum(),2).fillna(0)\n",
    "cluster_analysis_df_agg"
   ]
  },
  {
   "cell_type": "code",
   "execution_count": 128,
   "id": "3a5738ed",
   "metadata": {},
   "outputs": [
    {
     "data": {
      "image/png": "[encoded data removed]",
      "text/plain": [
       "<Figure size 720x7200 with 34 Axes>"
      ]
     },
     "metadata": {
      "needs_background": "light"
     },
     "output_type": "display_data"
    }
   ],
   "source": [
    "#Cluster Analysis in Graphs with all the features\n",
    "j, k = 0,0\n",
    "fig,ax = plt.subplots(17,2,figsize=(10,100))\n",
    "\n",
    "for i in cluster_analysis_df_agg.columns:\n",
    "    x = range(0,4)\n",
    "    y = cluster_analysis_df_agg[i]\n",
    "    ax[j,k].bar(x,y)\n",
    "    ax[j,k].set_title(i, fontsize=20)\n",
    "    ax[j,k].set(xlabel = 'Cluster')\n",
    "    k+=1   \n",
    "    if(k==2):\n",
    "        j+=1\n",
    "        k=0\n",
    "        \n",
    "plt.show()\n",
    "fig.tight_layout()"
   ]
  },
  {
   "cell_type": "code",
   "execution_count": null,
   "id": "5ad964b0",
   "metadata": {},
   "outputs": [],
   "source": []
  }
 ],
 "metadata": {
  "kernelspec": {
   "display_name": "Python 3",
   "language": "python",
   "name": "python3"
  },
  "language_info": {
   "codemirror_mode": {
    "name": "ipython",
    "version": 3
   },
   "file_extension": ".py",
   "mimetype": "text/x-python",
   "name": "python",
   "nbconvert_exporter": "python",
   "pygments_lexer": "ipython3",
   "version": "3.8.5"
  }
 },
 "nbformat": 4,
 "nbformat_minor": 5
}
